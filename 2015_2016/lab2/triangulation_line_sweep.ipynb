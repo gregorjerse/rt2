{
 "cells": [
  {
   "cell_type": "code",
   "execution_count": 2,
   "metadata": {
    "collapsed": true
   },
   "outputs": [],
   "source": [
    "class Point:\n",
    "    def __init__(self, x, y):\n",
    "        self.x = x\n",
    "        self.y = y\n",
    "        \n",
    "    def __repr__(self):\n",
    "        return str((self.x, self.y))"
   ]
  },
  {
   "cell_type": "code",
   "execution_count": 3,
   "metadata": {
    "collapsed": true
   },
   "outputs": [],
   "source": [
    "def orientation(p1, p2, p3):\n",
    "    \"\"\"\n",
    "    We are considering the triangle spanned on the\n",
    "    points p1, p2 and p3 (in this order).\n",
    "    Return positive number if the triangle is positively oriented.\n",
    "    Return positive number if the triangle is negatively oriented.\n",
    "    Returns 0 if the triangle is degenerate.\n",
    "    \"\"\"\n",
    "    a = (p2.x - p1.x, p2.y - p1.y)\n",
    "    b = (p3.x - p1.x, p3.y - p1.y)\n",
    "    return a[0]*b[1] - b[0]*a[1]"
   ]
  },
  {
   "cell_type": "code",
   "execution_count": 12,
   "metadata": {
    "collapsed": false
   },
   "outputs": [],
   "source": [
    "a = Point(0, 0)\n",
    "b = Point(1, 0)\n",
    "c = Point(0, 1)\n",
    "d = Point(2, 0)\n",
    "assert orientation(a, b, c) > 0\n",
    "assert orientation(a, b, d) == 0\n",
    "assert orientation(a, c, b) < 0\n"
   ]
  },
  {
   "cell_type": "code",
   "execution_count": 22,
   "metadata": {
    "collapsed": true
   },
   "outputs": [],
   "source": [
    "class Node:\n",
    "    def __init__(self, data):\n",
    "        self.data = data\n",
    "        self.p, self.n = self, self\n",
    "    \n",
    "    def add(node, data):\n",
    "        new_node = Node(data)\n",
    "        new_node.n, new_node.p = node.n, node\n",
    "        node.n.p, node.n = new_node, new_node\n",
    "        return new_node\n",
    "    \n",
    "    def __repr__(self):\n",
    "        ret = \"{0}\".format(self.data)\n",
    "        c = self\n",
    "        while c.n != self:\n",
    "            c = c.n\n",
    "            ret += \" <-> {0}\".format(c.data)\n",
    "        return ret"
   ]
  },
  {
   "cell_type": "code",
   "execution_count": 40,
   "metadata": {
    "collapsed": false
   },
   "outputs": [
    {
     "name": "stdout",
     "output_type": "stream",
     "text": [
      "a\n",
      "a <-> b\n",
      "a <-> c <-> b\n"
     ]
    }
   ],
   "source": [
    "a = Node(\"a\")\n",
    "print a\n",
    "b = a.add(\"b\")\n",
    "print a\n",
    "c = a.add(\"c\")\n",
    "print a"
   ]
  },
  {
   "cell_type": "code",
   "execution_count": null,
   "metadata": {
    "collapsed": true
   },
   "outputs": [],
   "source": []
  }
 ],
 "metadata": {
  "kernelspec": {
   "display_name": "Python 2",
   "language": "python",
   "name": "python2"
  },
  "language_info": {
   "codemirror_mode": {
    "name": "ipython",
    "version": 2
   },
   "file_extension": ".py",
   "mimetype": "text/x-python",
   "name": "python",
   "nbconvert_exporter": "python",
   "pygments_lexer": "ipython2",
   "version": "2.7.11"
  }
 },
 "nbformat": 4,
 "nbformat_minor": 0
}
