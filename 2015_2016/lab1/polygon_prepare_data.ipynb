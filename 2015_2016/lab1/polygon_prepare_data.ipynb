{
 "cells": [
  {
   "cell_type": "code",
   "execution_count": 57,
   "metadata": {
    "collapsed": true
   },
   "outputs": [],
   "source": [
    "import random\n",
    "import numpy"
   ]
  },
  {
   "cell_type": "markdown",
   "metadata": {},
   "source": [
    "# Priprava podatkov\n",
    "\n",
    "Najprej sem pri Gašperju v Blenderju narisal krivuljo. Dobil sem triangulacijo objekta. Odstranil sem stranice, ki se nahajajo v dveh trikotnikih in tako sem dobil zunanjost krivulje (ki je sklenjena)."
   ]
  },
  {
   "cell_type": "code",
   "execution_count": 15,
   "metadata": {
    "collapsed": true
   },
   "outputs": [],
   "source": [
    "-           "
   ]
  },
  {
   "cell_type": "code",
   "execution_count": 16,
   "metadata": {
    "collapsed": true
   },
   "outputs": [],
   "source": [
    "triangles = ((0, 1, 2),\n",
    "(3, 4, 5),\n",
    "(6, 7, 8),\n",
    "(4, 9, 10),\n",
    "(6, 8, 11),\n",
    "(12, 3, 13),\n",
    "(11, 8, 14),\n",
    "(9, 15, 16),\n",
    "(11, 14, 17),\n",
    "(15, 18, 16),\n",
    "(14, 19, 17),\n",
    "(20, 21, 22),\n",
    "(14, 23, 19),\n",
    "(18, 24, 16),\n",
    "(14, 25, 26),\n",
    "(27, 28, 29),\n",
    "(25, 30, 26),\n",
    "(28, 31, 32),\n",
    "(33, 19, 23),\n",
    "(31, 34, 35),\n",
    "(23, 14, 26),\n",
    "(34, 36, 37),\n",
    "(25, 38, 30),\n",
    "(36, 39, 40),\n",
    "(30, 38, 20),\n",
    "(39, 41, 42),\n",
    "(22, 30, 20),\n",
    "(39, 42, 40),\n",
    "(20, 12, 21),\n",
    "(43, 21, 12),\n",
    "(13, 44, 12),\n",
    "(45, 46, 47),\n",
    "(44, 43, 12),\n",
    "(45, 47, 48),\n",
    "(5, 13, 3),\n",
    "(45, 48, 49),\n",
    "(36, 40, 37),\n",
    "(49, 48, 50),\n",
    "(37, 51, 34),\n",
    "(49, 50, 52),\n",
    "(51, 53, 34),\n",
    "(52, 50, 5),\n",
    "(53, 54, 34),\n",
    "(55, 52, 5),\n",
    "(34, 54, 35),\n",
    "(56, 57, 58),\n",
    "(31, 35, 59),\n",
    "(56, 58, 60),\n",
    "(31, 59, 61),\n",
    "(56, 60, 62),\n",
    "(63, 64, 65),\n",
    "(62, 60, 66),\n",
    "(67, 63, 68),\n",
    "(62, 66, 69),\n",
    "(64, 70, 71),\n",
    "(66, 72, 69),\n",
    "(70, 73, 74),\n",
    "(66, 55, 72),\n",
    "(73, 75, 74),\n",
    "(55, 76, 72),\n",
    "(77, 67, 68),\n",
    "(72, 76, 78),\n",
    "(70, 74, 71),\n",
    "(79, 80, 81),\n",
    "(64, 71, 65),\n",
    "(80, 82, 81),\n",
    "(63, 65, 68),\n",
    "(80, 83, 82),\n",
    "(84, 77, 85),\n",
    "(82, 83, 86),\n",
    "(77, 68, 85),\n",
    "(83, 87, 86),\n",
    "(84, 85, 88),\n",
    "(86, 87, 89),\n",
    "(61, 84, 31),\n",
    "(89, 87, 72),\n",
    "(84, 88, 31),\n",
    "(89, 72, 78),\n",
    "(31, 88, 32),\n",
    "(55, 5, 76),\n",
    "(28, 32, 90),\n",
    "(76, 4, 91),\n",
    "(28, 92, 93),\n",
    "(91, 4, 94),\n",
    "(90, 95, 28),\n",
    "(94, 4, 96),\n",
    "(95, 92, 28),\n",
    "(96, 4, 97),\n",
    "(28, 93, 98),\n",
    "(97, 4, 10),\n",
    "(28, 98, 29),\n",
    "(76, 5, 4),\n",
    "(27, 29, 99),\n",
    "(100, 10, 9),\n",
    "(101, 102, 103),\n",
    "(104, 105, 106),\n",
    "(102, 107, 108),\n",
    "(109, 105, 110),\n",
    "(111, 101, 112),\n",
    "(113, 109, 110),\n",
    "(114, 115, 116),\n",
    "(117, 105, 109),\n",
    "(99, 111, 118),\n",
    "(119, 113, 110),\n",
    "(120, 107, 102),\n",
    "(104, 121, 105),\n",
    "(116, 120, 114),\n",
    "(121, 122, 123),\n",
    "(120, 124, 107),\n",
    "(123, 122, 125),\n",
    "(126, 127, 128),\n",
    "(129, 130, 131),\n",
    "(127, 132, 133),\n",
    "(134, 135, 136),\n",
    "(137, 126, 138),\n",
    "(135, 129, 136),\n",
    "(127, 133, 128),\n",
    "(136, 129, 139),\n",
    "(126, 128, 138),\n",
    "(139, 129, 131),\n",
    "(137, 138, 140),\n",
    "(130, 141, 131),\n",
    "(137, 140, 124),\n",
    "(131, 141, 142),\n",
    "(124, 140, 107),\n",
    "(141, 125, 142),\n",
    "(120, 102, 114),\n",
    "(125, 122, 142),\n",
    "(102, 108, 103),\n",
    "(121, 123, 105),\n",
    "(101, 103, 112),\n",
    "(105, 117, 106),\n",
    "(111, 112, 118),\n",
    "(106, 117, 143),\n",
    "(27, 99, 16),\n",
    "(143, 117, 144),\n",
    "(99, 118, 145),\n",
    "(146, 147, 144),\n",
    "(99, 145, 148),\n",
    "(146, 149, 147),\n",
    "(99, 148, 16),\n",
    "(2, 106, 0),\n",
    "(24, 27, 16),\n",
    "(150, 151, 152),\n",
    "(100, 9, 16),\n",
    "(153, 154, 155),\n",
    "(149, 100, 156),\n",
    "(157, 158, 159),\n",
    "(160, 2, 1),\n",
    "(158, 155, 159),\n",
    "(100, 16, 156),\n",
    "(158, 153, 155),\n",
    "(149, 156, 147),\n",
    "(154, 161, 155),\n",
    "(162, 163, 160),\n",
    "(154, 150, 161),\n",
    "(163, 151, 160),\n",
    "(161, 150, 152),\n",
    "(144, 147, 143),\n",
    "(143, 0, 106),\n",
    "(1, 162, 160),\n",
    "(151, 163, 152),\n",
    ")"
   ]
  },
  {
   "cell_type": "code",
   "execution_count": 17,
   "metadata": {
    "collapsed": true
   },
   "outputs": [],
   "source": [
    "def lines(triangle):\n",
    "    t = sorted(triangle)\n",
    "    return [(t[0], t[1]), (t[0], t[2]), (t[1], t[2])]"
   ]
  },
  {
   "cell_type": "code",
   "execution_count": 18,
   "metadata": {
    "collapsed": false
   },
   "outputs": [],
   "source": [
    "hull = set()\n",
    "for triangle in triangles:\n",
    "    for line in lines(triangle):\n",
    "        if line in hull:\n",
    "            hull.remove(line)\n",
    "        else:\n",
    "            hull.add(line)"
   ]
  },
  {
   "cell_type": "code",
   "execution_count": 19,
   "metadata": {
    "collapsed": false
   },
   "outputs": [
    {
     "data": {
      "text/plain": [
       "{(0, 1),\n",
       " (0, 143),\n",
       " (1, 162),\n",
       " (2, 106),\n",
       " (2, 160),\n",
       " (3, 4),\n",
       " (3, 12),\n",
       " (4, 9),\n",
       " (5, 13),\n",
       " (5, 50),\n",
       " (6, 7),\n",
       " (6, 11),\n",
       " (7, 8),\n",
       " (8, 14),\n",
       " (9, 15),\n",
       " (10, 97),\n",
       " (10, 100),\n",
       " (11, 17),\n",
       " (12, 20),\n",
       " (13, 44),\n",
       " (14, 25),\n",
       " (15, 18),\n",
       " (16, 148),\n",
       " (16, 156),\n",
       " (17, 19),\n",
       " (18, 24),\n",
       " (19, 33),\n",
       " (20, 38),\n",
       " (21, 22),\n",
       " (21, 43),\n",
       " (22, 30),\n",
       " (23, 26),\n",
       " (23, 33),\n",
       " (24, 27),\n",
       " (25, 38),\n",
       " (26, 30),\n",
       " (27, 28),\n",
       " (28, 31),\n",
       " (29, 98),\n",
       " (29, 99),\n",
       " (31, 34),\n",
       " (32, 88),\n",
       " (32, 90),\n",
       " (34, 36),\n",
       " (35, 54),\n",
       " (35, 59),\n",
       " (36, 39),\n",
       " (37, 40),\n",
       " (37, 51),\n",
       " (39, 41),\n",
       " (40, 42),\n",
       " (41, 42),\n",
       " (43, 44),\n",
       " (45, 46),\n",
       " (45, 49),\n",
       " (46, 47),\n",
       " (47, 48),\n",
       " (48, 50),\n",
       " (49, 52),\n",
       " (51, 53),\n",
       " (52, 55),\n",
       " (53, 54),\n",
       " (55, 66),\n",
       " (56, 57),\n",
       " (56, 62),\n",
       " (57, 58),\n",
       " (58, 60),\n",
       " (59, 61),\n",
       " (60, 66),\n",
       " (61, 84),\n",
       " (62, 69),\n",
       " (63, 64),\n",
       " (63, 67),\n",
       " (64, 70),\n",
       " (65, 68),\n",
       " (65, 71),\n",
       " (67, 77),\n",
       " (68, 85),\n",
       " (69, 72),\n",
       " (70, 73),\n",
       " (71, 74),\n",
       " (72, 87),\n",
       " (73, 75),\n",
       " (74, 75),\n",
       " (76, 78),\n",
       " (76, 91),\n",
       " (77, 84),\n",
       " (78, 89),\n",
       " (79, 80),\n",
       " (79, 81),\n",
       " (80, 83),\n",
       " (81, 82),\n",
       " (82, 86),\n",
       " (83, 87),\n",
       " (85, 88),\n",
       " (86, 89),\n",
       " (90, 95),\n",
       " (91, 94),\n",
       " (92, 93),\n",
       " (92, 95),\n",
       " (93, 98),\n",
       " (94, 96),\n",
       " (96, 97),\n",
       " (99, 111),\n",
       " (100, 149),\n",
       " (101, 102),\n",
       " (101, 111),\n",
       " (102, 114),\n",
       " (103, 108),\n",
       " (103, 112),\n",
       " (104, 106),\n",
       " (104, 121),\n",
       " (105, 110),\n",
       " (105, 123),\n",
       " (107, 108),\n",
       " (107, 140),\n",
       " (109, 113),\n",
       " (109, 117),\n",
       " (110, 119),\n",
       " (112, 118),\n",
       " (113, 119),\n",
       " (114, 115),\n",
       " (115, 116),\n",
       " (116, 120),\n",
       " (117, 144),\n",
       " (118, 145),\n",
       " (120, 124),\n",
       " (121, 122),\n",
       " (122, 142),\n",
       " (123, 125),\n",
       " (124, 137),\n",
       " (125, 141),\n",
       " (126, 127),\n",
       " (126, 137),\n",
       " (127, 132),\n",
       " (128, 133),\n",
       " (128, 138),\n",
       " (129, 130),\n",
       " (129, 135),\n",
       " (130, 141),\n",
       " (131, 139),\n",
       " (131, 142),\n",
       " (132, 133),\n",
       " (134, 135),\n",
       " (134, 136),\n",
       " (136, 139),\n",
       " (138, 140),\n",
       " (143, 147),\n",
       " (144, 146),\n",
       " (145, 148),\n",
       " (146, 149),\n",
       " (147, 156),\n",
       " (150, 151),\n",
       " (150, 154),\n",
       " (151, 160),\n",
       " (152, 161),\n",
       " (152, 163),\n",
       " (153, 154),\n",
       " (153, 158),\n",
       " (155, 159),\n",
       " (155, 161),\n",
       " (157, 158),\n",
       " (157, 159),\n",
       " (162, 163)}"
      ]
     },
     "execution_count": 19,
     "metadata": {},
     "output_type": "execute_result"
    }
   ],
   "source": [
    "hull"
   ]
  },
  {
   "cell_type": "markdown",
   "metadata": {},
   "source": [
    "Each point should be in the hull exactly twice."
   ]
  },
  {
   "cell_type": "code",
   "execution_count": 20,
   "metadata": {
    "collapsed": true
   },
   "outputs": [],
   "source": [
    "points = dict()\n",
    "for line in hull:\n",
    "    for point in line:\n",
    "        if point not in points:\n",
    "            points[point] = 1\n",
    "        else:\n",
    "            points[point] += 1"
   ]
  },
  {
   "cell_type": "code",
   "execution_count": 21,
   "metadata": {
    "collapsed": false
   },
   "outputs": [],
   "source": [
    "for key in points.keys():\n",
    "    assert points[key] == 2"
   ]
  },
  {
   "cell_type": "markdown",
   "metadata": {},
   "source": [
    "Now check whether a ray originating from the point (x, y) in the east dirrection intersects a line segment with endpoints (ax, ay) and (bx, by). First we check whether y lies in the segment [ay, by]. The we observe whether x, a, b makes a left turn."
   ]
  },
  {
   "cell_type": "code",
   "execution_count": 58,
   "metadata": {
    "collapsed": false
   },
   "outputs": [],
   "source": [
    "def intersects(p, a, b):\n",
    "    p = (p[0] + random.random()*0.000001, p[1] + random.random()*0.000001)\n",
    "    a, b = sorted([a, b], key=lambda p: p[1])\n",
    "    if a[1] < p[1] and p[1] < b[1]:\n",
    "        # Check the turn\n",
    "        a = numpy.array([[1] + list(p),\n",
    "                         [1] + list(a),\n",
    "                         [1] + list(b)])\n",
    "        return numpy.linalg.det(a) > 0\n",
    "    return False"
   ]
  },
  {
   "cell_type": "code",
   "execution_count": 24,
   "metadata": {
    "collapsed": false
   },
   "outputs": [
    {
     "data": {
      "text/plain": [
       "[(1, 3), (-3, 5)]"
      ]
     },
     "execution_count": 24,
     "metadata": {},
     "output_type": "execute_result"
    }
   ],
   "source": [
    "a = (1, 3)\n",
    "b = (-3, 5)\n",
    "sorted([a, b], key=lambda p: p[1])"
   ]
  },
  {
   "cell_type": "code",
   "execution_count": 47,
   "metadata": {
    "collapsed": false
   },
   "outputs": [
    {
     "data": {
      "text/plain": [
       "True"
      ]
     },
     "execution_count": 47,
     "metadata": {},
     "output_type": "execute_result"
    }
   ],
   "source": [
    "intersects((0.00001, 0.00001), (1, -1), (-0.5, 1))"
   ]
  },
  {
   "cell_type": "code",
   "execution_count": 42,
   "metadata": {
    "collapsed": true
   },
   "outputs": [],
   "source": [
    "def count_intersections(point_coordines, lines, point):\n",
    "    intersections = 0\n",
    "    for line in lines:\n",
    "        a, b = point_coordinates[line[0]], point_coordinates[line[1]]\n",
    "        if intersects(point, a, b):\n",
    "            intersections += 1\n",
    "    return intersections"
   ]
  },
  {
   "cell_type": "code",
   "execution_count": 63,
   "metadata": {
    "collapsed": false
   },
   "outputs": [
    {
     "data": {
      "text/plain": [
       "7"
      ]
     },
     "execution_count": 63,
     "metadata": {},
     "output_type": "execute_result"
    }
   ],
   "source": [
    "count_intersections(point_coordinates, hull, (0,0))"
   ]
  },
  {
   "cell_type": "code",
   "execution_count": null,
   "metadata": {
    "collapsed": true
   },
   "outputs": [],
   "source": []
  }
 ],
 "metadata": {
  "kernelspec": {
   "display_name": "Python 2",
   "language": "python",
   "name": "python2"
  },
  "language_info": {
   "codemirror_mode": {
    "name": "ipython",
    "version": 2
   },
   "file_extension": ".py",
   "mimetype": "text/x-python",
   "name": "python",
   "nbconvert_exporter": "python",
   "pygments_lexer": "ipython2",
   "version": "2.7.11"
  }
 },
 "nbformat": 4,
 "nbformat_minor": 0
}
