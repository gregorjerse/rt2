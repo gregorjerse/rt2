{
 "cells": [
  {
   "cell_type": "markdown",
   "metadata": {},
   "source": [
    "# Is a point inside a convex polygon?\n",
    "A convex polygon is given as a list of points in 2D and edges between them. For a given point determine whether the point lies inside the polygon.\n",
    "\n",
    "The algorithm:\n",
    "1. Draw a half line starting from the given point in the direction of the x-axis.\n",
    "2. Count the number of intersection of the half line with line segments of the polygon.\n",
    "3. Return True if the number of intersections is \n",
    "\n"
   ]
  },
  {
   "cell_type": "code",
   "execution_count": 2,
   "metadata": {
    "collapsed": false
   },
   "outputs": [],
   "source": [
    "def intersects(p, a, b):\n",
    "    \"\"\"\n",
    "    Return True if the half line starting from the point p\n",
    "    in the direction of the x-axis intersects the line\n",
    "    segment with endpoints a and b and False otherwise.\n",
    "    \"\"\"\n",
    "    p = (p[0] + random.random()*0.000001, p[1] + random.random()*0.000001)\n",
    "    a, b = sorted([a, b], key=lambda p: p[1])\n",
    "    if a[1] < p[1] and p[1] < b[1]:\n",
    "        # Check the orientation\n",
    "        a = numpy.array([[1] + list(p),\n",
    "                         [1] + list(a),\n",
    "                         [1] + list(b)])\n",
    "        return numpy.linalg.det(a) > 0\n",
    "    return False"
   ]
  },
  {
   "cell_type": "code",
   "execution_count": 3,
   "metadata": {
    "collapsed": true
   },
   "outputs": [],
   "source": [
    "def count_intersections(point_coordines, lines, point):\n",
    "    \"\"\"\n",
    "    Count the number of intersection of the half line starting in the point\n",
    "    point in the direction of the x-axis with the lines in the list line.\n",
    "    \"\"\"\n",
    "    intersections = 0\n",
    "    for line in lines:\n",
    "        a, b = point_coordinates[line[0]], point_coordinates[line[1]]\n",
    "        if intersects(point, a, b):\n",
    "            intersections += 1\n",
    "    return intersections"
   ]
  }
 ],
 "metadata": {
  "kernelspec": {
   "display_name": "Python 2",
   "language": "python",
   "name": "python2"
  },
  "language_info": {
   "codemirror_mode": {
    "name": "ipython",
    "version": 2
   },
   "file_extension": ".py",
   "mimetype": "text/x-python",
   "name": "python",
   "nbconvert_exporter": "python",
   "pygments_lexer": "ipython2",
   "version": "2.7.11"
  }
 },
 "nbformat": 4,
 "nbformat_minor": 0
}
