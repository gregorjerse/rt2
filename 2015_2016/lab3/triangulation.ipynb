{
 "cells": [
  {
   "cell_type": "code",
   "execution_count": 3,
   "metadata": {
    "collapsed": true
   },
   "outputs": [],
   "source": [
    "from collections import defaultdict"
   ]
  },
  {
   "cell_type": "code",
   "execution_count": 95,
   "metadata": {
    "collapsed": true
   },
   "outputs": [],
   "source": [
    "class Node:\n",
    "    \"\"\"\n",
    "    A node in a graph.\n",
    "    Each node has pointers to its neighbours.\n",
    "    \"\"\"\n",
    "    def __init__(self, data=None):\n",
    "        self.neighbours = set()\n",
    "        self.data = data\n",
    "        \n",
    "class Triangle:\n",
    "    \"\"\"\n",
    "    Unordered triangle is represented as a list of its\n",
    "    vertices (labeled with natural numbers).\n",
    "    \"\"\"\n",
    "    def __init__(self, vertices):\n",
    "        assert len(vertices) == 3, 'A triangle should have 3 vertices'\n",
    "        self.vertices = sorted(vertices)\n",
    "        \n",
    "    @property\n",
    "    def edges(self):\n",
    "        return (\n",
    "                (self.vertices[0], self.vertices[1]),\n",
    "                (self.vertices[1], self.vertices[2]),\n",
    "                (self.vertices[2], self.vertices[0]),\n",
    "               )\n",
    "\n",
    "    def __repr__(self):\n",
    "        return str(self.edges)\n",
    "        \n",
    "class OrderedTriangle:\n",
    "    \"\"\"\n",
    "    Ordered triangle points to its unordered triangle,\n",
    "    its lead vertex and to its ordered neighbour that\n",
    "    shares the same leading edge.\n",
    "    \"\"\"\n",
    "    def __init__(self, triangle, i, ordered_neighbour):\n",
    "        self.i = i\n",
    "        self.ordered_neighbour = ordered_neighbour"
   ]
  },
  {
   "cell_type": "code",
   "execution_count": 94,
   "metadata": {
    "collapsed": true
   },
   "outputs": [],
   "source": [
    "torus = [\n",
    "    (0, 1, 6),\n",
    "    (0, 4, 6),\n",
    "    (1, 6, 7),\n",
    "    (1, 2, 7),\n",
    "    (2, 7, 4),\n",
    "    (2, 0, 4),\n",
    "    (4, 5, 8),\n",
    "    (4, 6, 8),\n",
    "    (6, 3, 8),\n",
    "    (6, 7, 3),\n",
    "    (3, 7, 5),\n",
    "    (7, 4, 5),\n",
    "    (0, 1, 5),\n",
    "    (1, 5, 8),\n",
    "    (1, 2, 8),\n",
    "    (2, 8, 3),\n",
    "    (2, 0, 3),\n",
    "    (0, 5, 3),\n",
    "]"
   ]
  },
  {
   "cell_type": "code",
   "execution_count": 96,
   "metadata": {
    "collapsed": false
   },
   "outputs": [],
   "source": [
    "def create_triangulation(triangles):\n",
    "    triangles = [Triangle(triangle) for triangle in triangles]\n",
    "    n = max([max(triangle.vertices) for triangle in triangles]) + 1\n",
    "    nodes = [Node(triangle) for triangle in triangles]\n",
    "    # For each vertex construct a set of nodes containing \n",
    "    # triangles with this vertex.    \n",
    "    vertex_nodes = defaultdict(set)\n",
    "    for node in nodes:\n",
    "        for vertex in node.data.vertices:\n",
    "            vertex_nodes[vertex].add(node)\n",
    "    # For each triangle construct a node in a graph and connect it with\n",
    "    # its neighbours in the triangulation.\n",
    "    for node in nodes:\n",
    "        for (v1, v2) in node.data.edges:\n",
    "            neighbour = (vertex_nodes[v1] & vertex_nodes[v2]) - set([node])\n",
    "            assert len(neighbour) == 1\n",
    "            node.neighbours.add(neighbour.pop())\n",
    "        assert len(node.neighbours) == 3\n",
    "    return nodes    "
   ]
  },
  {
   "cell_type": "code",
   "execution_count": 97,
   "metadata": {
    "collapsed": false
   },
   "outputs": [],
   "source": [
    "triangulation = create_triangulation(torus)"
   ]
  },
  {
   "cell_type": "code",
   "execution_count": 120,
   "metadata": {
    "collapsed": false
   },
   "outputs": [],
   "source": [
    "def get_orientation(edge, edges):\n",
    "    \"\"\"\n",
    "    Returt the orientation of edge in edges.\n",
    "    It can be 0, 1 or 2 (edge is one of the edges)\n",
    "    or 4, 5 or 6 (edge is in the oposite orientation as one of the edges).\n",
    "    \"\"\"\n",
    "    try:\n",
    "        index =  edges.index(edge)\n",
    "    except Exception:\n",
    "        index = edges.index((edge[1], edge[0])) + 4\n",
    "    return index\n",
    "\n",
    "def sym(orientation):\n",
    "    return (orientation + 4) % 8\n",
    "\n",
    "def enext(orientation):\n",
    "    if orientation <= 2:\n",
    "        return (orientation + 1) % 3\n",
    "    return ((orientation + 1) % 3) + 4\n",
    "\n",
    "    \n",
    "def order_triangulation(triangulation):\n",
    "    for node in triangulation:\n",
    "        triangle = node.data\n",
    "        neighbours = node.neighbours\n",
    "        # Two assumptions made here:\n",
    "        # - triangle vertices are ordered\n",
    "        # - function edges of triangle returns edges  \n",
    "        #   in the positive orientation\n",
    "        ordered = dict()\n",
    "        for i, edge in enumerate(triangle.edges):\n",
    "            neighbour = [n for n in neighbours if edge[0] in n.data.vertices and edge[1] in n.data.vertices][0]\n",
    "            orientation = get_orientation(edge, neighbour.data.edges)\n",
    "            ordered[i] = (neighbour.data, orientation)\n",
    "            ordered[sym(i)] = (neighbour.data, sym(orientation))\n",
    "        triangle.ordered = ordered"
   ]
  },
  {
   "cell_type": "code",
   "execution_count": 106,
   "metadata": {
    "collapsed": false
   },
   "outputs": [],
   "source": [
    "order_triangulation(triangulation)"
   ]
  },
  {
   "cell_type": "code",
   "execution_count": 131,
   "metadata": {
    "collapsed": false
   },
   "outputs": [],
   "source": [
    "def orientable(ordered_triangulation):\n",
    "    return is_orientable(ordered_triangulation[0].data.ordered[0])\n",
    "\n",
    "def same_orientation_class(o1, o2):\n",
    "    if o1 in [0, 1, 2] and o2 in [0, 1, 2]:\n",
    "        return True\n",
    "    elif o1 in [4, 5, 6] and o2 in [4, 5, 6]:\n",
    "        return True\n",
    "    return False\n",
    "\n",
    "def is_orientable(oriented_triangle):\n",
    "    (triangle, orientation) = oriented_triangle\n",
    "    chosen = getattr(triangle, 'orientation', None)\n",
    "    if chosen is None:\n",
    "        triangle.orientation = 0\n",
    "        (t1, o1) = triangle.ordered[sym(orientation)]\n",
    "        (t2, o2) = triangle.ordered[enext(sym(orientation))]\n",
    "        (t3, o3) = triangle.ordered[enext(enext(sym(orientation)))]\n",
    "        return is_orientable((t1, o1)) and is_orientable((t2, o2)) and is_orientable((t3, o3))\n",
    "    else:\n",
    "        return same_orientation_class(orientation, chosen)"
   ]
  },
  {
   "cell_type": "code",
   "execution_count": 132,
   "metadata": {
    "collapsed": false
   },
   "outputs": [
    {
     "data": {
      "text/plain": [
       "False"
      ]
     },
     "execution_count": 132,
     "metadata": {},
     "output_type": "execute_result"
    }
   ],
   "source": [
    "orientable(triangulation)"
   ]
  },
  {
   "cell_type": "code",
   "execution_count": null,
   "metadata": {
    "collapsed": true
   },
   "outputs": [],
   "source": []
  }
 ],
 "metadata": {
  "kernelspec": {
   "display_name": "Python 3",
   "language": "python",
   "name": "python3"
  },
  "language_info": {
   "codemirror_mode": {
    "name": "ipython",
    "version": 3
   },
   "file_extension": ".py",
   "mimetype": "text/x-python",
   "name": "python",
   "nbconvert_exporter": "python",
   "pygments_lexer": "ipython3",
   "version": "3.5.1+"
  }
 },
 "nbformat": 4,
 "nbformat_minor": 0
}
