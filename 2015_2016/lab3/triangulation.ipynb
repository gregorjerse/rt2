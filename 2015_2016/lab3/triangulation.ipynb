{
 "cells": [
  {
   "cell_type": "code",
   "execution_count": 1,
   "metadata": {
    "collapsed": true
   },
   "outputs": [],
   "source": [
    "from collections import defaultdict"
   ]
  },
  {
   "cell_type": "markdown",
   "metadata": {},
   "source": [
    "# Is a triangulated surface orientable?\n",
    "\n",
    "A triangulated surface will be represented as a graph. Each node in the graph represents a triangle. Two nodes in the graph are connected when corresponding triangles share a common edge.\n",
    "\n",
    "Note: when a triangulation represents a surface without boundary, then graph is cubic."
   ]
  },
  {
   "cell_type": "code",
   "execution_count": 2,
   "metadata": {
    "collapsed": true
   },
   "outputs": [],
   "source": [
    "class Triangle:\n",
    "    \"\"\"\n",
    "    A triangle is represented as a list of its\n",
    "    vertices (labeled with natural numbers).\n",
    "    \"\"\"\n",
    "    def __init__(self, vertices):\n",
    "        assert len(vertices) == 3, 'A triangle should have 3 vertices'\n",
    "        self.vertices = sorted(vertices)\n",
    "        \n",
    "    @property\n",
    "    def edges(self):\n",
    "        \"\"\"\n",
    "        Return the list of edges 'in the positive direction'.\n",
    "        \"\"\"\n",
    "        return (\n",
    "                (self.vertices[0], self.vertices[1]),\n",
    "                (self.vertices[1], self.vertices[2]),\n",
    "                (self.vertices[2], self.vertices[0]),\n",
    "               )\n",
    "\n",
    "    def contains_edge(self, edge):\n",
    "        '''\n",
    "        Return True, if the triangle contains a given edge. \n",
    "        The edge is given as a tuple.\n",
    "        '''\n",
    "        return edge[0] in self.vertices and edge[1] in self.vertices\n",
    "    \n",
    "    def __repr__(self):\n",
    "        return str(self.vertices)"
   ]
  },
  {
   "cell_type": "code",
   "execution_count": 3,
   "metadata": {
    "collapsed": true
   },
   "outputs": [],
   "source": [
    "class Node:\n",
    "    \"\"\"\n",
    "    A node in a graph.\n",
    "    Each node has pointers to its neighbours and pointer to the data the node contains.\n",
    "    \"\"\"\n",
    "    def __init__(self, data=None):\n",
    "        self.neighbours = set()\n",
    "        self.data = data"
   ]
  },
  {
   "cell_type": "markdown",
   "metadata": {},
   "source": [
    "List of triangles in a triangulation of a torus and a projective plane."
   ]
  },
  {
   "cell_type": "code",
   "execution_count": 4,
   "metadata": {
    "collapsed": true
   },
   "outputs": [],
   "source": [
    "torus_triangles = [\n",
    "    (0, 1, 6), (0, 4, 6), (1, 6, 7), (1, 2, 7), (2, 7, 4), (2, 0, 4), (4, 5, 8), (4, 6, 8), (6, 3, 8),\n",
    "    (6, 7, 3), (3, 7, 5), (7, 4, 5), (0, 1, 5), (1, 5, 8), (1, 2, 8), (2, 8, 3), (2, 0, 3), (0, 5, 3),\n",
    "]\n",
    "\n",
    "projective_plane_triangles = [\n",
    "    (1, 2, 7), (1, 7, 3), (2, 7, 5), (7, 3, 6), (2, 3, 5), (4, 5, 7),\n",
    "    (7, 4, 6), (2, 6, 3), (4, 5, 3), (4, 6, 2), (1, 3, 4), (4, 1, 2),\n",
    "]"
   ]
  },
  {
   "cell_type": "markdown",
   "metadata": {},
   "source": [
    "Create triangulations from the set of triangles."
   ]
  },
  {
   "cell_type": "code",
   "execution_count": 5,
   "metadata": {
    "collapsed": false
   },
   "outputs": [],
   "source": [
    "def create_triangulation(triangles):\n",
    "    triangles = [Triangle(triangle) for triangle in triangles]\n",
    "    n = max([max(triangle.vertices) for triangle in triangles]) + 1\n",
    "    nodes = [Node(triangle) for triangle in triangles]\n",
    "    # For each vertex compute the set of nodes representing triangles containing the vertex.    \n",
    "    vertex_nodes = defaultdict(set)\n",
    "    for node in nodes:\n",
    "        for vertex in node.data.vertices:\n",
    "            vertex_nodes[vertex].add(node)\n",
    "    # Make connection between neighbourhood nodes.\n",
    "    for node in nodes:\n",
    "        for (v1, v2) in node.data.edges:\n",
    "            neighbour = (vertex_nodes[v1] & vertex_nodes[v2]) - set([node])\n",
    "            assert len(neighbour) == 1\n",
    "            node.neighbours.add(neighbour.pop())\n",
    "        assert len(node.neighbours) == 3\n",
    "    return nodes    "
   ]
  },
  {
   "cell_type": "markdown",
   "metadata": {},
   "source": [
    "Create triangulations from the set of triangles for a torus and a projective plane."
   ]
  },
  {
   "cell_type": "code",
   "execution_count": 6,
   "metadata": {
    "collapsed": false
   },
   "outputs": [],
   "source": [
    "torus_triangulation = create_triangulation(torus_triangles)\n",
    "projective_plane_triangulation = create_triangulation(projective_plane_triangles)\n",
    "assert len(torus_triangles) == len(torus_triangles)\n",
    "assert len(projective_plane_triangulation) == len(projective_plane_triangles)"
   ]
  },
  {
   "cell_type": "markdown",
   "metadata": {},
   "source": [
    "Helper function which construct the order structure for a given triangulation."
   ]
  },
  {
   "cell_type": "code",
   "execution_count": 7,
   "metadata": {
    "collapsed": false
   },
   "outputs": [],
   "source": [
    "def get_orientation(edge, edges):\n",
    "    \"\"\"\n",
    "    Returt the orientation of edge in the given set of edges.\n",
    "    It can be 0, 1 or 2 (edge is one of the edges)\n",
    "    or 4, 5 or 6 (edge with a positeva orientation is one of the edges).\n",
    "    \"\"\"\n",
    "    try:\n",
    "        index =  edges.index(edge)\n",
    "    except Exception:\n",
    "        index = edges.index((edge[1], edge[0])) + 4\n",
    "    return index\n",
    "\n",
    "def sym(orientation):\n",
    "    \"\"\"\n",
    "    Get the orientation with the same leading edge in the oposite direction.\n",
    "    \"\"\"\n",
    "    return (orientation + 4) % 8\n",
    "\n",
    "def enext(orientation):\n",
    "    \"\"\"\n",
    "    Get the next orientation of the same type.\n",
    "    \"\"\"\n",
    "    if orientation <= 2:\n",
    "        return (orientation + 1) % 3\n",
    "    return ((orientation + 1) % 3) + 4\n",
    "\n",
    "    \n",
    "def order_triangulation(triangulation):\n",
    "    \"\"\"\n",
    "    Construct ordered triangles for a given triangulation.\n",
    "    \"\"\"\n",
    "    for node in triangulation:\n",
    "        triangle = node.data\n",
    "        neighbours = node.neighbours\n",
    "        # Two assumptions made here:\n",
    "        # - triangle vertices are ordered\n",
    "        # - function edges of triangle returns edges  \n",
    "        #   in the positive orientation\n",
    "        ordered = dict()\n",
    "        for i, edge in enumerate(triangle.edges):\n",
    "            # Get the neighbour that shares the common edge with our triangle\n",
    "            neighbour = [n for n in neighbours if n.data.contains_edge(edge)][0]\n",
    "            orientation = get_orientation(edge, neighbour.data.edges)\n",
    "            ordered[i] = (neighbour.data, orientation)\n",
    "            ordered[sym(i)] = (neighbour.data, sym(orientation))\n",
    "        triangle.ordered = ordered"
   ]
  },
  {
   "cell_type": "markdown",
   "metadata": {},
   "source": [
    "Finally: a function which checks whether a given triangulation is orientable."
   ]
  },
  {
   "cell_type": "code",
   "execution_count": 8,
   "metadata": {
    "collapsed": false
   },
   "outputs": [],
   "source": [
    "def orientable(triangles):\n",
    "    '''\n",
    "    Is a triangulation orientable?\n",
    "    '''\n",
    "    triangulation = create_triangulation(triangles)\n",
    "    order_triangulation(triangulation)\n",
    "    return is_orientable(triangulation[0].data.ordered[0])\n",
    "\n",
    "def same_orientation_type(o1, o2):\n",
    "    '''\n",
    "    Are two orientations of the same type.\n",
    "    '''\n",
    "    assert o1 in [0, 1, 2, 4, 5, 6]\n",
    "    assert o2 in [0, 1, 2, 4, 5, 6]\n",
    "    return o1 >> 2 == o2 >> 2\n",
    "\n",
    "def is_orientable(oriented_triangle):\n",
    "    (triangle, orientation) = oriented_triangle\n",
    "    chosen_orientation = getattr(triangle, 'orientation', None)\n",
    "    if chosen_orientation is None:\n",
    "        triangle.orientation = orientation\n",
    "        (t1, o1) = triangle.ordered[sym(orientation)]\n",
    "        (t2, o2) = triangle.ordered[enext(sym(orientation))]\n",
    "        (t3, o3) = triangle.ordered[enext(enext(sym(orientation)))]\n",
    "        return is_orientable((t1, o1)) and is_orientable((t2, o2)) and is_orientable((t3, o3))\n",
    "    else:\n",
    "        return same_orientation_type(orientation, chosen_orientation)"
   ]
  },
  {
   "cell_type": "code",
   "execution_count": 9,
   "metadata": {
    "collapsed": false
   },
   "outputs": [
    {
     "data": {
      "text/plain": [
       "True"
      ]
     },
     "execution_count": 9,
     "metadata": {},
     "output_type": "execute_result"
    }
   ],
   "source": [
    "orientable(torus_triangles)"
   ]
  },
  {
   "cell_type": "code",
   "execution_count": 10,
   "metadata": {
    "collapsed": false
   },
   "outputs": [
    {
     "data": {
      "text/plain": [
       "False"
      ]
     },
     "execution_count": 10,
     "metadata": {},
     "output_type": "execute_result"
    }
   ],
   "source": [
    "orientable(projective_plane_triangles)"
   ]
  },
  {
   "cell_type": "code",
   "execution_count": null,
   "metadata": {
    "collapsed": true
   },
   "outputs": [],
   "source": []
  }
 ],
 "metadata": {
  "kernelspec": {
   "display_name": "Python 2",
   "language": "python",
   "name": "python2"
  },
  "language_info": {
   "codemirror_mode": {
    "name": "ipython",
    "version": 2
   },
   "file_extension": ".py",
   "mimetype": "text/x-python",
   "name": "python",
   "nbconvert_exporter": "python",
   "pygments_lexer": "ipython2",
   "version": "2.7.11"
  }
 },
 "nbformat": 4,
 "nbformat_minor": 0
}
