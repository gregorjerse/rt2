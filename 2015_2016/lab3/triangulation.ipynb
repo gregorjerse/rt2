{
 "cells": [
  {
   "cell_type": "code",
   "execution_count": 1,
   "metadata": {
    "collapsed": true
   },
   "outputs": [],
   "source": [
    "from collections import defaultdict"
   ]
  },
  {
   "cell_type": "markdown",
   "metadata": {},
   "source": [
    "# Is a triangulated surface orientable?\n",
    "\n",
    "Each triangle is stored as a tuple of its vertices. Each vertex is labeled with a non negative integer.\n",
    "\n",
    "A triangulation of a surface is stored as a simple graph. Each triangle in the triangulation is stored in the corresponding node in the graph. Two nodes in the graph are connected when the triangles stored inside them share a common edge.\n",
    "\n",
    "Remark: a graph is cubic if a triangulated surface is 2D manifold without a boundary."
   ]
  },
  {
   "cell_type": "code",
   "execution_count": 2,
   "metadata": {
    "collapsed": false
   },
   "outputs": [],
   "source": [
    "class Triangle:\n",
    "    \"\"\"\n",
    "    A triangle is represented as a list of its\n",
    "    vertices (labeled with natural numbers).\n",
    "    \"\"\"\n",
    "    def __init__(self, vertices, neighbours=None):\n",
    "        assert len(vertices) == 3, 'A triangle should have 3 vertices'\n",
    "        self.vertices = sorted(vertices)\n",
    "        self.neighbours = neighbours if neighbours is not None else set()\n",
    "        \n",
    "    @property\n",
    "    def edges(self):\n",
    "        \"\"\"\n",
    "        Return the generator of edges 'in the positive direction'.\n",
    "        \"\"\"\n",
    "        v, n = self.vertices, len(self.vertices)\n",
    "        return ((v[i], v[(i + 1) % n]) for i in range(n))\n",
    "\n",
    "    def contains_edge(self, edge):\n",
    "        '''\n",
    "        Return True, if the triangle contains a given edge. \n",
    "        The edge is given as a tuple of labels of its vertices.\n",
    "        '''\n",
    "        return set(edge) <= set(self.vertices)\n",
    "    \n",
    "    def neighbour_edge(self, edge):\n",
    "        '''\n",
    "        Return neighbour with the shared edge. If no such neighbour exists\n",
    "        an Exception is raised.\n",
    "        '''\n",
    "        neighbour = [n for n in self.neighbours if n.contains_edge(edge)]\n",
    "        assert len(neighbour) == 1\n",
    "        return neighbour[0]\n",
    "    \n",
    "    def __repr__(self):\n",
    "        '''\n",
    "        Represent triangle wih the list of its vertices.\n",
    "        '''\n",
    "        return str(self.vertices)"
   ]
  },
  {
   "cell_type": "markdown",
   "metadata": {},
   "source": [
    "Example triangulations: a set of triangles that represents a torus and a projective plane."
   ]
  },
  {
   "cell_type": "code",
   "execution_count": 3,
   "metadata": {
    "collapsed": true
   },
   "outputs": [],
   "source": [
    "torus_triangles = [\n",
    "    (0, 1, 6), (0, 4, 6), (1, 6, 7), (1, 2, 7), (2, 7, 4), (2, 0, 4), (4, 5, 8), (4, 6, 8), (6, 3, 8),\n",
    "    (6, 7, 3), (3, 7, 5), (7, 4, 5), (0, 1, 5), (1, 5, 8), (1, 2, 8), (2, 8, 3), (2, 0, 3), (0, 5, 3),\n",
    "]\n",
    "\n",
    "projective_plane_triangles = [\n",
    "    (1, 2, 7), (1, 7, 3), (2, 7, 5), (7, 3, 6), (2, 3, 5), (4, 5, 7),\n",
    "    (7, 4, 6), (2, 6, 3), (4, 5, 3), (4, 6, 2), (1, 3, 4), (4, 1, 2),\n",
    "]"
   ]
  },
  {
   "cell_type": "markdown",
   "metadata": {},
   "source": [
    "First we create a graph from the set of triangles. No ordered structure is computed here."
   ]
  },
  {
   "cell_type": "code",
   "execution_count": 4,
   "metadata": {
    "collapsed": false
   },
   "outputs": [],
   "source": [
    "def create_triangulation(triangles):\n",
    "    '''\n",
    "    Create a triangulation from a set of triangles. \n",
    "    '''\n",
    "    n = max([max(triangle) for triangle in triangles]) + 1\n",
    "    triangles = [Triangle(triangle) for triangle in triangles]\n",
    "    # For each vertex compute the set of triangles containing the vertex.    \n",
    "    vertex_triangles = defaultdict(set)\n",
    "    for triangle in triangles:\n",
    "        for vertex in triangle.vertices:\n",
    "            vertex_triangles[vertex].add(triangle)\n",
    "    # Make connection between neighbourhood triangles.\n",
    "    for triangle in triangles:\n",
    "        for (v1, v2) in triangle.edges:\n",
    "            neighbour = (vertex_triangles[v1] & vertex_triangles[v2])\n",
    "            neighbour.remove(triangle)\n",
    "            assert len(neighbour) == 1\n",
    "            triangle.neighbours.add(neighbour.pop())\n",
    "        # Each triangle should have exactly 3 neighbours (2D manifold without a boundary)\n",
    "        assert len(triangle.neighbours) == 3\n",
    "    return triangles    "
   ]
  },
  {
   "cell_type": "markdown",
   "metadata": {},
   "source": [
    "An oriented version of a triangle is represented as a tuple (triangle, orientation). First we define helper functions enext and sym that move from one oriented triangle to another."
   ]
  },
  {
   "cell_type": "code",
   "execution_count": 5,
   "metadata": {
    "collapsed": false
   },
   "outputs": [],
   "source": [
    "class OrientedTriangle:\n",
    "    def __init__(self, triangle, orientation):\n",
    "        self.triangle = triangle\n",
    "        self.orientation = orientation\n",
    "            \n",
    "    @property\n",
    "    def is_positively_oriented(self):\n",
    "        return self.orientation in [0, 1, 2]\n",
    "\n",
    "    @property\n",
    "    def enext(self):\n",
    "        \"\"\"\n",
    "        Get the next orientation of the same type.\n",
    "        \"\"\"\n",
    "        if self.orientation <= 2:\n",
    "            orientation = (self.orientation + 1) % 3\n",
    "        else:\n",
    "            orientation = ((self.orientation + 1) % 3) + 4\n",
    "        return OrientedTriangle(self.triangle, orientation)\n",
    "\n",
    "    @property\n",
    "    def sym(self):\n",
    "        \"\"\"\n",
    "        Get the orientation with the same leading edge in the opposite direction.\n",
    "        \"\"\"\n",
    "        return OrientedTriangle(self.triangle, (self.orientation + 4) % 8)\n",
    "\n",
    "    @property\n",
    "    def get_leading_edge(self):\n",
    "        edge = list(self.triangle.edges)[self.orientation & 3]\n",
    "        return edge if self.is_positively_oriented else tuple(reversed(edge))\n",
    "    \n",
    "    @property\n",
    "    def fnext(self):\n",
    "        '''\n",
    "        Compute return the value of fnext for the oriented triangle.\n",
    "        '''\n",
    "        reversed_edge = tuple(reversed(self.get_leading_edge))\n",
    "        # Get the neighbour that shares the leading edge with our triangle.\n",
    "        neighbour = self.triangle.neighbour_edge(reversed_edge)\n",
    "        oriented_neighbour = OrientedTriangle(neighbour, 0)\n",
    "        oriented_neighbour.orient_triangle(reversed_edge)\n",
    "        return oriented_neighbour\n",
    "\n",
    "    def same_orientation(self, triangle):\n",
    "        return self.is_positively_oriented == triangle.is_positively_oriented\n",
    "\n",
    "    def orient_triangle(self, edge):\n",
    "        \"\"\"\n",
    "        Orient the triangle so that the given edge is its lead edge.\n",
    "        \"\"\"\n",
    "        edges = list(self.triangle.edges)\n",
    "        try:\n",
    "            orientation =  edges.index(edge)\n",
    "        except Exception:\n",
    "            orientation = edges.index(tuple(reversed(edge))) + 4\n",
    "        self.orientation = orientation\n"
   ]
  },
  {
   "cell_type": "markdown",
   "metadata": {},
   "source": [
    "Finally: a function which checks whether a given triangulation is orientable."
   ]
  },
  {
   "cell_type": "code",
   "execution_count": 6,
   "metadata": {
    "collapsed": false
   },
   "outputs": [],
   "source": [
    "def orientable(triangles):\n",
    "    '''\n",
    "    Is a triangulation orientable?\n",
    "    '''\n",
    "    triangulation = create_triangulation(triangles)\n",
    "    return is_orientable(OrientedTriangle(triangulation[0], 0))\n",
    "\n",
    "def is_orientable(oriented_triangle):\n",
    "    triangle = oriented_triangle.triangle\n",
    "    chosen_orientation = getattr(triangle, 'orientation', None)\n",
    "    if chosen_orientation is None:\n",
    "        triangle.orientation = oriented_triangle.orientation\n",
    "        t1 = oriented_triangle.fnext\n",
    "        t2 = oriented_triangle.enext.fnext\n",
    "        t3 = oriented_triangle.enext.enext.fnext\n",
    "        return is_orientable(t1) and is_orientable(t2) and is_orientable(t3)\n",
    "    else:\n",
    "        return oriented_triangle.same_orientation(OrientedTriangle(triangle, chosen_orientation))"
   ]
  },
  {
   "cell_type": "code",
   "execution_count": 7,
   "metadata": {
    "collapsed": false
   },
   "outputs": [
    {
     "data": {
      "text/plain": [
       "True"
      ]
     },
     "execution_count": 7,
     "metadata": {},
     "output_type": "execute_result"
    }
   ],
   "source": [
    "orientable(torus_triangles)"
   ]
  },
  {
   "cell_type": "code",
   "execution_count": 8,
   "metadata": {
    "collapsed": false
   },
   "outputs": [
    {
     "data": {
      "text/plain": [
       "False"
      ]
     },
     "execution_count": 8,
     "metadata": {},
     "output_type": "execute_result"
    }
   ],
   "source": [
    "orientable(projective_plane_triangles)"
   ]
  }
 ],
 "metadata": {
  "kernelspec": {
   "display_name": "Python 3",
   "language": "python",
   "name": "python3"
  },
  "language_info": {
   "codemirror_mode": {
    "name": "ipython",
    "version": 3
   },
   "file_extension": ".py",
   "mimetype": "text/x-python",
   "name": "python",
   "nbconvert_exporter": "python",
   "pygments_lexer": "ipython3",
   "version": "3.5.1+"
  }
 },
 "nbformat": 4,
 "nbformat_minor": 0
}
