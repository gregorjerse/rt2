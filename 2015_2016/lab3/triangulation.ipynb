{
 "cells": [
  {
   "cell_type": "code",
   "execution_count": 1,
   "metadata": {
    "collapsed": true
   },
   "outputs": [],
   "source": [
    "from collections import defaultdict"
   ]
  },
  {
   "cell_type": "markdown",
   "metadata": {},
   "source": [
    "# Is a triangulated surface orientable?\n",
    "\n",
    "Each triangle is stored as a tuple of its vertices. Each vertex is labeled with a non negative integer.\n",
    "\n",
    "A triangulation of a surface is stored as a simple graph. Each triangle in the triangulation is stored in the corresponding node in the graph. Two nodes in the graph are connected when the triangles stored inside them share a common edge.\n",
    "\n",
    "Remark: a graph is cubic if a triangulated surface is 2D manifold without a boundary."
   ]
  },
  {
   "cell_type": "code",
   "execution_count": 2,
   "metadata": {
    "collapsed": true
   },
   "outputs": [],
   "source": [
    "class Triangle:\n",
    "    \"\"\"\n",
    "    A triangle is represented as a list of its\n",
    "    vertices (labeled with natural numbers).\n",
    "    \"\"\"\n",
    "    def __init__(self, vertices):\n",
    "        assert len(vertices) == 3, 'A triangle should have 3 vertices'\n",
    "        self.vertices = sorted(vertices)\n",
    "        \n",
    "    @property\n",
    "    def edges(self):\n",
    "        \"\"\"\n",
    "        Return the list of edges 'in the positive direction'.\n",
    "        \"\"\"\n",
    "        return (\n",
    "                (self.vertices[0], self.vertices[1]),\n",
    "                (self.vertices[1], self.vertices[2]),\n",
    "                (self.vertices[2], self.vertices[0]),\n",
    "               )\n",
    "\n",
    "    def contains_edge(self, edge):\n",
    "        '''\n",
    "        Return True, if the triangle contains a given edge. \n",
    "        The edge is given as a tuple.\n",
    "        '''\n",
    "        return edge[0] in self.vertices and edge[1] in self.vertices\n",
    "    \n",
    "    def __repr__(self):\n",
    "        return str(self.vertices)"
   ]
  },
  {
   "cell_type": "code",
   "execution_count": 11,
   "metadata": {
    "collapsed": true
   },
   "outputs": [],
   "source": [
    "class Node:\n",
    "    \"\"\"\n",
    "    A node in a graph.\n",
    "    Each node stores a set of its neighbours and a pointer to the data stored in the node.\n",
    "    \"\"\"\n",
    "    def __init__(self, data=None):\n",
    "        self.neighbours = set()\n",
    "        self.data = data"
   ]
  },
  {
   "cell_type": "markdown",
   "metadata": {},
   "source": [
    "Example triangulations: a set of triangles that represents a torus and a projective plane."
   ]
  },
  {
   "cell_type": "code",
   "execution_count": 4,
   "metadata": {
    "collapsed": true
   },
   "outputs": [],
   "source": [
    "torus_triangles = [\n",
    "    (0, 1, 6), (0, 4, 6), (1, 6, 7), (1, 2, 7), (2, 7, 4), (2, 0, 4), (4, 5, 8), (4, 6, 8), (6, 3, 8),\n",
    "    (6, 7, 3), (3, 7, 5), (7, 4, 5), (0, 1, 5), (1, 5, 8), (1, 2, 8), (2, 8, 3), (2, 0, 3), (0, 5, 3),\n",
    "]\n",
    "\n",
    "projective_plane_triangles = [\n",
    "    (1, 2, 7), (1, 7, 3), (2, 7, 5), (7, 3, 6), (2, 3, 5), (4, 5, 7),\n",
    "    (7, 4, 6), (2, 6, 3), (4, 5, 3), (4, 6, 2), (1, 3, 4), (4, 1, 2),\n",
    "]"
   ]
  },
  {
   "cell_type": "markdown",
   "metadata": {},
   "source": [
    "First we create a graph from the set of triangles. No ordered structure is computed here."
   ]
  },
  {
   "cell_type": "code",
   "execution_count": 23,
   "metadata": {
    "collapsed": false
   },
   "outputs": [],
   "source": [
    "def create_triangulation(triangles):\n",
    "    n = max([max(triangle) for triangle in triangles]) + 1\n",
    "    nodes = [Node(Triangle(triangle)) for triangle in triangles]\n",
    "    # For each vertex compute the set of nodes containing triangles containing the vertex.    \n",
    "    vertex_nodes = defaultdict(set)\n",
    "    for node in nodes:\n",
    "        for vertex in node.data.vertices:\n",
    "            vertex_nodes[vertex].add(node)\n",
    "    # Make connection between neighbourhood nodes.\n",
    "    for node in nodes:\n",
    "        for (v1, v2) in node.data.edges:\n",
    "            neighbour = (vertex_nodes[v1] & vertex_nodes[v2])\n",
    "            neighbour.remove(node)\n",
    "            assert len(neighbour) == 1\n",
    "            node.neighbours.add(neighbour.pop())\n",
    "        # Each node should have degree 3 (2D manifold without a boundary)\n",
    "        assert len(node.neighbours) == 3\n",
    "    return nodes    "
   ]
  },
  {
   "cell_type": "markdown",
   "metadata": {},
   "source": [
    "An oriented version of a triangle is represented as a tuple (triangle, orientation). First we define helper functions enext and sym that move from one oriented triangle to another."
   ]
  },
  {
   "cell_type": "code",
   "execution_count": 41,
   "metadata": {
    "collapsed": false
   },
   "outputs": [],
   "source": [
    "def sym(oriented_triangle):\n",
    "    \"\"\"\n",
    "    Get the orientation with the same leading edge in the oposite direction.\n",
    "    \"\"\"\n",
    "    triangle, orientation  = oriented_triangle\n",
    "    return triangle, (orientation + 4) % 8\n",
    "\n",
    "def enext(oriented_triangle):\n",
    "    \"\"\"\n",
    "    Get the next orientation of the same type.\n",
    "    \"\"\"\n",
    "    triangle, orientation = oriented_triangle\n",
    "    if orientation <= 2:\n",
    "        orientation = (orientation + 1) % 3\n",
    "    else:\n",
    "        orientation = ((orientation + 1) % 3) + 4\n",
    "    return triangle, orientation\n",
    "\n",
    "def fnext(oriented_triangle):\n",
    "    edge = get_leading_edge(oriented_triangle)\n",
    "    triangle, orientation = oriented_triangle\n",
    "    # Get the neighbour that shares the common edge with our triangle\n",
    "    neighbour = [n for n in neighbours if n.data.contains_edge(edge)][0]\n",
    "    orientation = get_orientation(edge, neighbour.data.edges)\n",
    "    ordered[i] = (neighbour.data, orientation)\n",
    "    ordered[sym(i)] = (neighbour.data, sym(orientation))\n",
    "\n",
    "\n",
    "def is_orientation_positive(orientation):\n",
    "    if orientation in [0, 1, 2]: \n",
    "        return True\n",
    "    return False\n",
    "\n",
    "def get_leading_edge(oriented_triangle):\n",
    "    triangle, orientation = oriented_triangle\n",
    "    edge = triangle.edges[orientation & 3]\n",
    "    if not is_orientation_positive(orientation):\n",
    "        edge = tuple(reversed(edge))\n",
    "    return edge\n",
    "    \n",
    "\n",
    "def get_orientation(edge, edges):\n",
    "    \"\"\"\n",
    "    Returt the orientation of edge in the given set of edges.\n",
    "    It can be 0, 1 or 2 (edge is one of the edges)\n",
    "    or 4, 5 or 6 (edge with a positeva orientation is one of the edges).\n",
    "    \"\"\"\n",
    "    try:\n",
    "        index =  edges.index(edge)\n",
    "    except Exception:\n",
    "        index = edges.index(tuple(reversed(edge))) + 4\n",
    "    return index\n",
    "    \n",
    "def order_triangulation(triangulation):\n",
    "    \"\"\"\n",
    "    Construct ordered triangles for a given triangulation.\n",
    "    \"\"\"\n",
    "    for node in triangulation:\n",
    "        triangle = node.data\n",
    "        neighbours = node.neighbours\n",
    "        # Two assumptions made here:\n",
    "        # - triangle vertices are ordered\n",
    "        # - function edges of triangle returns edges  \n",
    "        #   in the positive orientation\n",
    "        ordered = dict()\n",
    "        for i, edge in enumerate(triangle.edges):\n",
    "            # Get the neighbour that shares the common edge with our triangle\n",
    "            neighbour = [n for n in neighbours if n.data.contains_edge(edge)][0]\n",
    "            orientation = get_orientation(edge, neighbour.data.edges)\n",
    "            ordered[i] = (neighbour.data, orientation)\n",
    "            ordered[sym(i)] = (neighbour.data, sym(orientation))\n",
    "        triangle.ordered = ordered"
   ]
  },
  {
   "cell_type": "code",
   "execution_count": 42,
   "metadata": {
    "collapsed": false
   },
   "outputs": [
    {
     "data": {
      "text/plain": [
       "(2, 1)"
      ]
     },
     "execution_count": 42,
     "metadata": {},
     "output_type": "execute_result"
    }
   ],
   "source": [
    "tuple(reversed((1, 2)))\n"
   ]
  },
  {
   "cell_type": "markdown",
   "metadata": {},
   "source": [
    "Finally: a function which checks whether a given triangulation is orientable."
   ]
  },
  {
   "cell_type": "code",
   "execution_count": 43,
   "metadata": {
    "collapsed": false
   },
   "outputs": [],
   "source": [
    "def orientable(triangles):\n",
    "    '''\n",
    "    Is a triangulation orientable?\n",
    "    '''\n",
    "    triangulation = create_triangulation(triangles)\n",
    "    order_triangulation(triangulation)\n",
    "    return is_orientable(triangulation[0].data.ordered[0])\n",
    "\n",
    "def same_orientation_type(o1, o2):\n",
    "    '''\n",
    "    Are two orientations of the same type.\n",
    "    '''\n",
    "    assert o1 in [0, 1, 2, 4, 5, 6]\n",
    "    assert o2 in [0, 1, 2, 4, 5, 6]\n",
    "    return o1 >> 2 == o2 >> 2\n",
    "\n",
    "def is_orientable(oriented_triangle):\n",
    "    (triangle, orientation) = oriented_triangle\n",
    "    chosen_orientation = getattr(triangle, 'orientation', None)\n",
    "    if chosen_orientation is None:\n",
    "        triangle.orientation = orientation\n",
    "        (t1, o1) = triangle.ordered[sym(orientation)]\n",
    "        (t2, o2) = triangle.ordered[enext(sym(orientation))]\n",
    "        (t3, o3) = triangle.ordered[enext(enext(sym(orientation)))]\n",
    "        return is_orientable((t1, o1)) and is_orientable((t2, o2)) and is_orientable((t3, o3))\n",
    "    else:\n",
    "        return same_orientation_type(orientation, chosen_orientation)"
   ]
  },
  {
   "cell_type": "code",
   "execution_count": 44,
   "metadata": {
    "collapsed": false
   },
   "outputs": [
    {
     "ename": "TypeError",
     "evalue": "'int' object is not iterable",
     "output_type": "error",
     "traceback": [
      "\u001b[1;31m---------------------------------------------------------------------------\u001b[0m",
      "\u001b[1;31mTypeError\u001b[0m                                 Traceback (most recent call last)",
      "\u001b[1;32m<ipython-input-44-c24e880b4d63>\u001b[0m in \u001b[0;36m<module>\u001b[1;34m()\u001b[0m\n\u001b[1;32m----> 1\u001b[1;33m \u001b[0morientable\u001b[0m\u001b[1;33m(\u001b[0m\u001b[0mtorus_triangles\u001b[0m\u001b[1;33m)\u001b[0m\u001b[1;33m\u001b[0m\u001b[0m\n\u001b[0m",
      "\u001b[1;32m<ipython-input-43-0bcf5bacf682>\u001b[0m in \u001b[0;36morientable\u001b[1;34m(triangles)\u001b[0m\n\u001b[0;32m      4\u001b[0m     '''\n\u001b[0;32m      5\u001b[0m     \u001b[0mtriangulation\u001b[0m \u001b[1;33m=\u001b[0m \u001b[0mcreate_triangulation\u001b[0m\u001b[1;33m(\u001b[0m\u001b[0mtriangles\u001b[0m\u001b[1;33m)\u001b[0m\u001b[1;33m\u001b[0m\u001b[0m\n\u001b[1;32m----> 6\u001b[1;33m     \u001b[0morder_triangulation\u001b[0m\u001b[1;33m(\u001b[0m\u001b[0mtriangulation\u001b[0m\u001b[1;33m)\u001b[0m\u001b[1;33m\u001b[0m\u001b[0m\n\u001b[0m\u001b[0;32m      7\u001b[0m     \u001b[1;32mreturn\u001b[0m \u001b[0mis_orientable\u001b[0m\u001b[1;33m(\u001b[0m\u001b[0mtriangulation\u001b[0m\u001b[1;33m[\u001b[0m\u001b[1;36m0\u001b[0m\u001b[1;33m]\u001b[0m\u001b[1;33m.\u001b[0m\u001b[0mdata\u001b[0m\u001b[1;33m.\u001b[0m\u001b[0mordered\u001b[0m\u001b[1;33m[\u001b[0m\u001b[1;36m0\u001b[0m\u001b[1;33m]\u001b[0m\u001b[1;33m)\u001b[0m\u001b[1;33m\u001b[0m\u001b[0m\n\u001b[0;32m      8\u001b[0m \u001b[1;33m\u001b[0m\u001b[0m\n",
      "\u001b[1;32m<ipython-input-41-f75753715506>\u001b[0m in \u001b[0;36morder_triangulation\u001b[1;34m(triangulation)\u001b[0m\n\u001b[0;32m     69\u001b[0m             \u001b[0morientation\u001b[0m \u001b[1;33m=\u001b[0m \u001b[0mget_orientation\u001b[0m\u001b[1;33m(\u001b[0m\u001b[0medge\u001b[0m\u001b[1;33m,\u001b[0m \u001b[0mneighbour\u001b[0m\u001b[1;33m.\u001b[0m\u001b[0mdata\u001b[0m\u001b[1;33m.\u001b[0m\u001b[0medges\u001b[0m\u001b[1;33m)\u001b[0m\u001b[1;33m\u001b[0m\u001b[0m\n\u001b[0;32m     70\u001b[0m             \u001b[0mordered\u001b[0m\u001b[1;33m[\u001b[0m\u001b[0mi\u001b[0m\u001b[1;33m]\u001b[0m \u001b[1;33m=\u001b[0m \u001b[1;33m(\u001b[0m\u001b[0mneighbour\u001b[0m\u001b[1;33m.\u001b[0m\u001b[0mdata\u001b[0m\u001b[1;33m,\u001b[0m \u001b[0morientation\u001b[0m\u001b[1;33m)\u001b[0m\u001b[1;33m\u001b[0m\u001b[0m\n\u001b[1;32m---> 71\u001b[1;33m             \u001b[0mordered\u001b[0m\u001b[1;33m[\u001b[0m\u001b[0msym\u001b[0m\u001b[1;33m(\u001b[0m\u001b[0mi\u001b[0m\u001b[1;33m)\u001b[0m\u001b[1;33m]\u001b[0m \u001b[1;33m=\u001b[0m \u001b[1;33m(\u001b[0m\u001b[0mneighbour\u001b[0m\u001b[1;33m.\u001b[0m\u001b[0mdata\u001b[0m\u001b[1;33m,\u001b[0m \u001b[0msym\u001b[0m\u001b[1;33m(\u001b[0m\u001b[0morientation\u001b[0m\u001b[1;33m)\u001b[0m\u001b[1;33m)\u001b[0m\u001b[1;33m\u001b[0m\u001b[0m\n\u001b[0m\u001b[0;32m     72\u001b[0m         \u001b[0mtriangle\u001b[0m\u001b[1;33m.\u001b[0m\u001b[0mordered\u001b[0m \u001b[1;33m=\u001b[0m \u001b[0mordered\u001b[0m\u001b[1;33m\u001b[0m\u001b[0m\n",
      "\u001b[1;32m<ipython-input-41-f75753715506>\u001b[0m in \u001b[0;36msym\u001b[1;34m(oriented_triangle)\u001b[0m\n\u001b[0;32m      3\u001b[0m     \u001b[0mGet\u001b[0m \u001b[0mthe\u001b[0m \u001b[0morientation\u001b[0m \u001b[1;32mwith\u001b[0m \u001b[0mthe\u001b[0m \u001b[0msame\u001b[0m \u001b[0mleading\u001b[0m \u001b[0medge\u001b[0m \u001b[1;32min\u001b[0m \u001b[0mthe\u001b[0m \u001b[0moposite\u001b[0m \u001b[0mdirection\u001b[0m\u001b[1;33m.\u001b[0m\u001b[1;33m\u001b[0m\u001b[0m\n\u001b[0;32m      4\u001b[0m     \"\"\"\n\u001b[1;32m----> 5\u001b[1;33m     \u001b[0mtriangle\u001b[0m\u001b[1;33m,\u001b[0m \u001b[0morientation\u001b[0m  \u001b[1;33m=\u001b[0m \u001b[0moriented_triangle\u001b[0m\u001b[1;33m\u001b[0m\u001b[0m\n\u001b[0m\u001b[0;32m      6\u001b[0m     \u001b[1;32mreturn\u001b[0m \u001b[0mtriangle\u001b[0m\u001b[1;33m,\u001b[0m \u001b[1;33m(\u001b[0m\u001b[0morientation\u001b[0m \u001b[1;33m+\u001b[0m \u001b[1;36m4\u001b[0m\u001b[1;33m)\u001b[0m \u001b[1;33m%\u001b[0m \u001b[1;36m8\u001b[0m\u001b[1;33m\u001b[0m\u001b[0m\n\u001b[0;32m      7\u001b[0m \u001b[1;33m\u001b[0m\u001b[0m\n",
      "\u001b[1;31mTypeError\u001b[0m: 'int' object is not iterable"
     ]
    }
   ],
   "source": [
    "orientable(torus_triangles)"
   ]
  },
  {
   "cell_type": "code",
   "execution_count": 45,
   "metadata": {
    "collapsed": false
   },
   "outputs": [
    {
     "ename": "TypeError",
     "evalue": "'int' object is not iterable",
     "output_type": "error",
     "traceback": [
      "\u001b[1;31m---------------------------------------------------------------------------\u001b[0m",
      "\u001b[1;31mTypeError\u001b[0m                                 Traceback (most recent call last)",
      "\u001b[1;32m<ipython-input-45-b812d6e506f9>\u001b[0m in \u001b[0;36m<module>\u001b[1;34m()\u001b[0m\n\u001b[1;32m----> 1\u001b[1;33m \u001b[0morientable\u001b[0m\u001b[1;33m(\u001b[0m\u001b[0mprojective_plane_triangles\u001b[0m\u001b[1;33m)\u001b[0m\u001b[1;33m\u001b[0m\u001b[0m\n\u001b[0m",
      "\u001b[1;32m<ipython-input-43-0bcf5bacf682>\u001b[0m in \u001b[0;36morientable\u001b[1;34m(triangles)\u001b[0m\n\u001b[0;32m      4\u001b[0m     '''\n\u001b[0;32m      5\u001b[0m     \u001b[0mtriangulation\u001b[0m \u001b[1;33m=\u001b[0m \u001b[0mcreate_triangulation\u001b[0m\u001b[1;33m(\u001b[0m\u001b[0mtriangles\u001b[0m\u001b[1;33m)\u001b[0m\u001b[1;33m\u001b[0m\u001b[0m\n\u001b[1;32m----> 6\u001b[1;33m     \u001b[0morder_triangulation\u001b[0m\u001b[1;33m(\u001b[0m\u001b[0mtriangulation\u001b[0m\u001b[1;33m)\u001b[0m\u001b[1;33m\u001b[0m\u001b[0m\n\u001b[0m\u001b[0;32m      7\u001b[0m     \u001b[1;32mreturn\u001b[0m \u001b[0mis_orientable\u001b[0m\u001b[1;33m(\u001b[0m\u001b[0mtriangulation\u001b[0m\u001b[1;33m[\u001b[0m\u001b[1;36m0\u001b[0m\u001b[1;33m]\u001b[0m\u001b[1;33m.\u001b[0m\u001b[0mdata\u001b[0m\u001b[1;33m.\u001b[0m\u001b[0mordered\u001b[0m\u001b[1;33m[\u001b[0m\u001b[1;36m0\u001b[0m\u001b[1;33m]\u001b[0m\u001b[1;33m)\u001b[0m\u001b[1;33m\u001b[0m\u001b[0m\n\u001b[0;32m      8\u001b[0m \u001b[1;33m\u001b[0m\u001b[0m\n",
      "\u001b[1;32m<ipython-input-41-f75753715506>\u001b[0m in \u001b[0;36morder_triangulation\u001b[1;34m(triangulation)\u001b[0m\n\u001b[0;32m     69\u001b[0m             \u001b[0morientation\u001b[0m \u001b[1;33m=\u001b[0m \u001b[0mget_orientation\u001b[0m\u001b[1;33m(\u001b[0m\u001b[0medge\u001b[0m\u001b[1;33m,\u001b[0m \u001b[0mneighbour\u001b[0m\u001b[1;33m.\u001b[0m\u001b[0mdata\u001b[0m\u001b[1;33m.\u001b[0m\u001b[0medges\u001b[0m\u001b[1;33m)\u001b[0m\u001b[1;33m\u001b[0m\u001b[0m\n\u001b[0;32m     70\u001b[0m             \u001b[0mordered\u001b[0m\u001b[1;33m[\u001b[0m\u001b[0mi\u001b[0m\u001b[1;33m]\u001b[0m \u001b[1;33m=\u001b[0m \u001b[1;33m(\u001b[0m\u001b[0mneighbour\u001b[0m\u001b[1;33m.\u001b[0m\u001b[0mdata\u001b[0m\u001b[1;33m,\u001b[0m \u001b[0morientation\u001b[0m\u001b[1;33m)\u001b[0m\u001b[1;33m\u001b[0m\u001b[0m\n\u001b[1;32m---> 71\u001b[1;33m             \u001b[0mordered\u001b[0m\u001b[1;33m[\u001b[0m\u001b[0msym\u001b[0m\u001b[1;33m(\u001b[0m\u001b[0mi\u001b[0m\u001b[1;33m)\u001b[0m\u001b[1;33m]\u001b[0m \u001b[1;33m=\u001b[0m \u001b[1;33m(\u001b[0m\u001b[0mneighbour\u001b[0m\u001b[1;33m.\u001b[0m\u001b[0mdata\u001b[0m\u001b[1;33m,\u001b[0m \u001b[0msym\u001b[0m\u001b[1;33m(\u001b[0m\u001b[0morientation\u001b[0m\u001b[1;33m)\u001b[0m\u001b[1;33m)\u001b[0m\u001b[1;33m\u001b[0m\u001b[0m\n\u001b[0m\u001b[0;32m     72\u001b[0m         \u001b[0mtriangle\u001b[0m\u001b[1;33m.\u001b[0m\u001b[0mordered\u001b[0m \u001b[1;33m=\u001b[0m \u001b[0mordered\u001b[0m\u001b[1;33m\u001b[0m\u001b[0m\n",
      "\u001b[1;32m<ipython-input-41-f75753715506>\u001b[0m in \u001b[0;36msym\u001b[1;34m(oriented_triangle)\u001b[0m\n\u001b[0;32m      3\u001b[0m     \u001b[0mGet\u001b[0m \u001b[0mthe\u001b[0m \u001b[0morientation\u001b[0m \u001b[1;32mwith\u001b[0m \u001b[0mthe\u001b[0m \u001b[0msame\u001b[0m \u001b[0mleading\u001b[0m \u001b[0medge\u001b[0m \u001b[1;32min\u001b[0m \u001b[0mthe\u001b[0m \u001b[0moposite\u001b[0m \u001b[0mdirection\u001b[0m\u001b[1;33m.\u001b[0m\u001b[1;33m\u001b[0m\u001b[0m\n\u001b[0;32m      4\u001b[0m     \"\"\"\n\u001b[1;32m----> 5\u001b[1;33m     \u001b[0mtriangle\u001b[0m\u001b[1;33m,\u001b[0m \u001b[0morientation\u001b[0m  \u001b[1;33m=\u001b[0m \u001b[0moriented_triangle\u001b[0m\u001b[1;33m\u001b[0m\u001b[0m\n\u001b[0m\u001b[0;32m      6\u001b[0m     \u001b[1;32mreturn\u001b[0m \u001b[0mtriangle\u001b[0m\u001b[1;33m,\u001b[0m \u001b[1;33m(\u001b[0m\u001b[0morientation\u001b[0m \u001b[1;33m+\u001b[0m \u001b[1;36m4\u001b[0m\u001b[1;33m)\u001b[0m \u001b[1;33m%\u001b[0m \u001b[1;36m8\u001b[0m\u001b[1;33m\u001b[0m\u001b[0m\n\u001b[0;32m      7\u001b[0m \u001b[1;33m\u001b[0m\u001b[0m\n",
      "\u001b[1;31mTypeError\u001b[0m: 'int' object is not iterable"
     ]
    }
   ],
   "source": [
    "orientable(projective_plane_triangles)"
   ]
  },
  {
   "cell_type": "code",
   "execution_count": null,
   "metadata": {
    "collapsed": true
   },
   "outputs": [],
   "source": []
  },
  {
   "cell_type": "code",
   "execution_count": null,
   "metadata": {
    "collapsed": true
   },
   "outputs": [],
   "source": []
  },
  {
   "cell_type": "code",
   "execution_count": null,
   "metadata": {
    "collapsed": true
   },
   "outputs": [],
   "source": []
  },
  {
   "cell_type": "code",
   "execution_count": null,
   "metadata": {
    "collapsed": true
   },
   "outputs": [],
   "source": []
  }
 ],
 "metadata": {
  "kernelspec": {
   "display_name": "Python 2",
   "language": "python",
   "name": "python2"
  },
  "language_info": {
   "codemirror_mode": {
    "name": "ipython",
    "version": 2
   },
   "file_extension": ".py",
   "mimetype": "text/x-python",
   "name": "python",
   "nbconvert_exporter": "python",
   "pygments_lexer": "ipython2",
   "version": "2.7.11"
  }
 },
 "nbformat": 4,
 "nbformat_minor": 0
}
