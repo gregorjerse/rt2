{
 "cells": [
  {
   "cell_type": "markdown",
   "metadata": {},
   "source": [
    "## Persistent homology\n",
    "This demo explains how to use Dionysus for persistent homology computation. First necessary imports."
   ]
  },
  {
   "cell_type": "code",
   "execution_count": 14,
   "metadata": {
    "collapsed": false
   },
   "outputs": [
    {
     "name": "stdout",
     "output_type": "stream",
     "text": [
      "\n"
     ]
    }
   ],
   "source": [
    "from dionysus import Simplex, Filtration, StaticPersistence, \\\n",
    "                     vertex_cmp, data_cmp, data_dim_cmp, \\\n",
    "                     DynamicPersistenceChains\n",
    "from math import sqrt"
   ]
  },
  {
   "cell_type": "markdown",
   "metadata": {},
   "source": [
    "We will compute persistent homology of the closed 2-simplex. The filtration is as follows: first the top vertex of the triangle is added, then the rest of vertices followed by the the bottom edge, then the rest of the edges and finally the triangle is filled in."
   ]
  },
  {
   "cell_type": "code",
   "execution_count": 15,
   "metadata": {
    "collapsed": true
   },
   "outputs": [],
   "source": [
    "scx = [Simplex((2,),        0),                 # C\n",
    "       Simplex((0,),        1),                 # A\n",
    "       Simplex((1,),        1),                 # B\n",
    "       Simplex((0,1),       2),                 # AB\n",
    "       Simplex((1,2),       3),                 # BC\n",
    "       Simplex((0,2),       3),                 # AC\n",
    "       Simplex((0,1,2),     4),                 # ABC\n",
    "]"
   ]
  },
  {
   "cell_type": "markdown",
   "metadata": {},
   "source": [
    "Now let us compute the persistent homology of the above complex."
   ]
  },
  {
   "cell_type": "code",
   "execution_count": 20,
   "metadata": {
    "collapsed": false
   },
   "outputs": [
    {
     "name": "stdout",
     "output_type": "stream",
     "text": [
      "\n"
     ]
    }
   ],
   "source": [
    "f = Filtration(scx, data_cmp)            \n",
    "p = StaticPersistence(f)\n",
    "p.pair_simplices(True)\n",
    "smap = p.make_simplex_map(f)"
   ]
  },
  {
   "cell_type": "markdown",
   "metadata": {},
   "source": [
    "Now output the computed persistence diagram. The features that persist forever hav Death value set to `inf`."
   ]
  },
  {
   "cell_type": "code",
   "execution_count": 58,
   "metadata": {
    "collapsed": false,
    "scrolled": true
   },
   "outputs": [
    {
     "name": "stdout",
     "output_type": "stream",
     "text": [
      "     First    Second     Birth     Death\n",
      "       <2>                   0       inf\n",
      "       <0>    <1, 2>         1         3\n",
      "       <1>    <0, 1>         1         2\n",
      "    <0, 2> <0, 1, 2>         3         4\n"
     ]
    }
   ],
   "source": [
    "print \"{:>10}{:>10}{:>10}{:>10}\".format(\"First\", \"Second\", \"Birth\", \"Death\")\n",
    "for i in p:\n",
    "    if i.sign():\n",
    "        b = smap[i]\n",
    "        if i.unpaired():\n",
    "            print \"{:>10}{:>10}{:>10}{:>10}\".format(b, '', b.data, \"inf\")\n",
    "            continue\n",
    "        d = smap[i.pair()]\n",
    "        print \"{:>10}{:>10}{:>10}{:>10}\".format(b, d, b.data, d.data)"
   ]
  }
 ],
 "metadata": {
  "kernelspec": {
   "display_name": "Python 2",
   "language": "python",
   "name": "python2"
  },
  "language_info": {
   "codemirror_mode": {
    "name": "ipython",
    "version": 2
   },
   "file_extension": ".py",
   "mimetype": "text/x-python",
   "name": "python",
   "nbconvert_exporter": "python",
   "pygments_lexer": "ipython2",
   "version": "2.7.11"
  }
 },
 "nbformat": 4,
 "nbformat_minor": 0
}
