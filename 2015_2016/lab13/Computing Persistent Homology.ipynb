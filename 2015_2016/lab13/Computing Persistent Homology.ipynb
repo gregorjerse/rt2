{
 "cells": [
  {
   "cell_type": "markdown",
   "metadata": {},
   "source": [
    "## Persistent homology\n",
    "This demo explains how to use Dionysus for persistent homology computation. First necessary imports."
   ]
  },
  {
   "cell_type": "code",
   "execution_count": 59,
   "metadata": {
    "collapsed": false
   },
   "outputs": [],
   "source": [
    "from dionysus import Simplex, Filtration, StaticPersistence, \\\n",
    "                     vertex_cmp, data_cmp, data_dim_cmp, \\\n",
    "                     DynamicPersistenceChains\n",
    "from math import sqrt"
   ]
  },
  {
   "cell_type": "markdown",
   "metadata": {},
   "source": [
    "We will compute persistent homology of a 2-simplex (triangle) ABC. The filtration is as follows: first the top vertex (C) of the triangle is added, then the rest of vertices (A and B) followed by the the bottom edge (AB), then the rest of the edges (AC and BC) and finally the triangle is filled in (ABC)."
   ]
  },
  {
   "cell_type": "code",
   "execution_count": 60,
   "metadata": {
    "collapsed": true
   },
   "outputs": [],
   "source": [
    "scx = [Simplex((2,),        0),                 # C\n",
    "       Simplex((0,),        1),                 # A\n",
    "       Simplex((1,),        1),                 # B\n",
    "       Simplex((0,1),       2),                 # AB\n",
    "       Simplex((1,2),       3),                 # BC\n",
    "       Simplex((0,2),       3),                 # AC\n",
    "       Simplex((0,1,2),     4),                 # ABC\n",
    "]"
   ]
  },
  {
   "cell_type": "markdown",
   "metadata": {},
   "source": [
    "Now the persistent homology is computed."
   ]
  },
  {
   "cell_type": "code",
   "execution_count": 62,
   "metadata": {
    "collapsed": false
   },
   "outputs": [],
   "source": [
    "f = Filtration(scx, data_cmp)            \n",
    "p = DynamicPersistenceChains(f)\n",
    "p.pair_simplices()\n",
    "smap = p.make_simplex_map(f)"
   ]
  },
  {
   "cell_type": "markdown",
   "metadata": {},
   "source": [
    "Now output the computed persistence diagram. For each critical cell that appears in the filtration the time of `Birth` and `Death` is given as well as the cell that kills it (its pair). The features that persist forever have `Death` value set to `inf`."
   ]
  },
  {
   "cell_type": "code",
   "execution_count": 69,
   "metadata": {
    "collapsed": false,
    "scrolled": true
   },
   "outputs": [
    {
     "name": "stdout",
     "output_type": "stream",
     "text": [
      "     First    Second     Birth     Death\n",
      "       <2>                   0       inf\n",
      "       <0>    <1, 2>         1         3\n",
      "       <1>    <0, 1>         1         2\n",
      "    <0, 2> <0, 1, 2>         3         4\n"
     ]
    }
   ],
   "source": [
    "print \"{:>10}{:>10}{:>10}{:>10}\".format(\"First\", \"Second\", \"Birth\", \"Death\")\n",
    "for i in (i for i in p if i.sign()):\n",
    "    b = smap[i]\n",
    "    if i.unpaired():\n",
    "        print \"{:>10}{:>10}{:>10}{:>10}\".format(b, '', b.data, \"inf\")\n",
    "    else:\n",
    "        d = smap[i.pair()]\n",
    "        print \"{:>10}{:>10}{:>10}{:>10}\".format(b, d, b.data, d.data)"
   ]
  },
  {
   "cell_type": "markdown",
   "metadata": {},
   "source": [
    "This concludes our example. For additional information see Dionysus examples, for instance $\\alpha$-shapes example (on which one is based on)."
   ]
  }
 ],
 "metadata": {
  "kernelspec": {
   "display_name": "Python 2",
   "language": "python",
   "name": "python2"
  },
  "language_info": {
   "codemirror_mode": {
    "name": "ipython",
    "version": 2
   },
   "file_extension": ".py",
   "mimetype": "text/x-python",
   "name": "python",
   "nbconvert_exporter": "python",
   "pygments_lexer": "ipython2",
   "version": "2.7.11"
  }
 },
 "nbformat": 4,
 "nbformat_minor": 0
}
