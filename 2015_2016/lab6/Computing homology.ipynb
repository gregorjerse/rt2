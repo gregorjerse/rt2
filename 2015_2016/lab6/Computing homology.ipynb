{
 "cells": [
  {
   "cell_type": "markdown",
   "metadata": {},
   "source": [
    "# Homology computation\n",
    "Using dionysus we can compute homology. First we have to include necessary classes and define our complex. In our example we will compute the homology of a (empty) triangle."
   ]
  },
  {
   "cell_type": "code",
   "execution_count": 1,
   "metadata": {
    "collapsed": false
   },
   "outputs": [],
   "source": [
    "from dionysus import Simplex, Filtration, StaticPersistence, \\\n",
    "                     vertex_cmp, data_cmp, data_dim_cmp, \\\n",
    "                     DynamicPersistenceChains\n",
    "\n",
    "complex = [Simplex((0,),        0),                 # A\n",
    "           Simplex((1,),        0),                 # B\n",
    "           Simplex((2,),        0),                 # C\n",
    "           Simplex((0,1),       0),                 # AB\n",
    "           Simplex((1,2),       0),                 # BC\n",
    "           Simplex((0,2),       0),                 # CA\n",
    "]"
   ]
  },
  {
   "cell_type": "markdown",
   "metadata": {},
   "source": [
    "Now we have to define a filtration. This is connected with persistent homology which is still a mistery to us at this time. So please just take this as a recipe. "
   ]
  },
  {
   "cell_type": "code",
   "execution_count": 2,
   "metadata": {
    "collapsed": false
   },
   "outputs": [],
   "source": [
    "f = Filtration(complex, data_cmp)            \n",
    "p = DynamicPersistenceChains(f)\n",
    "p.pair_simplices()\n",
    "smap = p.make_simplex_map(f)"
   ]
  },
  {
   "cell_type": "markdown",
   "metadata": {},
   "source": [
    "The homology has been computed. One can determine not only the number of generators but also the generating cycles. Let us print out the generators of the homology groups."
   ]
  },
  {
   "cell_type": "code",
   "execution_count": 3,
   "metadata": {
    "collapsed": false
   },
   "outputs": [
    {
     "name": "stdout",
     "output_type": "stream",
     "text": [
      "Dim: 0: [<0>]\n",
      "Dim: 1: [<0, 2>, <1, 2>, <0, 1>]\n"
     ]
    }
   ],
   "source": [
    "for i in [i for i in p if i.unpaired()]:\n",
    "    print \"Dim: {0}: {1}\".format(smap[i].dimension(), \n",
    "                                [smap[ii] for ii in i.chain])"
   ]
  },
  {
   "cell_type": "code",
   "execution_count": null,
   "metadata": {
    "collapsed": true
   },
   "outputs": [],
   "source": []
  }
 ],
 "metadata": {
  "kernelspec": {
   "display_name": "Python 2",
   "language": "python",
   "name": "python2"
  },
  "language_info": {
   "codemirror_mode": {
    "name": "ipython",
    "version": 2
   },
   "file_extension": ".py",
   "mimetype": "text/x-python",
   "name": "python",
   "nbconvert_exporter": "python",
   "pygments_lexer": "ipython2",
   "version": "2.7.11+"
  }
 },
 "nbformat": 4,
 "nbformat_minor": 0
}
