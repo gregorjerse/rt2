{
 "cells": [
  {
   "cell_type": "markdown",
   "metadata": {},
   "source": [
    "# Lab exercises\n",
    "Simplicial complex in Dionysus is just a list of its simplices. See how we define a full triangle spanned on vertices labeled with 0, 1 and 2 in the following example. "
   ]
  },
  {
   "cell_type": "code",
   "execution_count": 5,
   "metadata": {
    "collapsed": false
   },
   "outputs": [
    {
     "data": {
      "text/plain": [
       "[<0>, <1>, <2>, <0, 1>, <0, 2>, <1, 2>, <0, 1, 2>]"
      ]
     },
     "execution_count": 5,
     "metadata": {},
     "output_type": "execute_result"
    }
   ],
   "source": [
    "from dionysus import Simplex\n",
    "\n",
    "complex = [Simplex([0]), Simplex([1]), Simplex([2]), Simplex([0, 1]), \n",
    "           Simplex([0, 2]), Simplex([2, 1]), Simplex([0, 1, 2])]\n",
    "complex"
   ]
  },
  {
   "cell_type": "markdown",
   "metadata": {},
   "source": [
    "Since specifying each simplex in a complex is a cumbersome task, dionysus has a closure method which automatically adds missing simplices of lower dimensions in the complex. So the above complex can also be defined as follows."
   ]
  },
  {
   "cell_type": "code",
   "execution_count": 12,
   "metadata": {
    "collapsed": false
   },
   "outputs": [
    {
     "data": {
      "text/plain": [
       "[<0, 2>, <0, 1>, <1, 2>, <0>, <1>, <2>, <0, 1, 2>]"
      ]
     },
     "execution_count": 12,
     "metadata": {},
     "output_type": "execute_result"
    }
   ],
   "source": [
    "from dionysus import closure\n",
    "\n",
    "# Closure accepts 2 arguments: a complex and its dimension\n",
    "complex = closure([Simplex([0, 1, 2])], 2)\n",
    "complex"
   ]
  },
  {
   "cell_type": "markdown",
   "metadata": {},
   "source": [
    "### Triangulation\n",
    "\n",
    "Write the code for the following methods.\n",
    "1. `sphere(dimension)`: returns a simplicial complex for a sphere of dimension dimension.\n",
    "2. `torus(n)`: returns a simplicial complex for connected sum of n toruses (see http://www-history.mcs.st-and.ac.uk/~john/MT4521/Lectures/L23.html). \n",
    "\n",
    "Test the code to see if the obtained triangulation is valid for torus and sphere of dimension 2."
   ]
  },
  {
   "cell_type": "markdown",
   "metadata": {},
   "source": [
    "### Homology\n",
    "Read the document http://nbviewer.jupyter.org/github/gregorjerse/rt2/blob/master/2015_2016/lab6/Computing%20homology.ipynb . Then compute homology of the following objects.\n",
    "1. Spheres of dimension 1, 2, ... , 10. Based on the results determine the homology groups of the n-dimensional sphere.\n",
    "2. Connected sum of 1, 2, ..., 10 toruses. Based on the results determine the homology groups of the connected sum of n toruses.\n",
    "3. Complex containing 2, 3, 4 disconnected spheres. Based on the results determine the homology groups of a complex consisting of more disconnected components if we know the homology groups for each individual component."
   ]
  },
  {
   "cell_type": "markdown",
   "metadata": {},
   "source": [
    "### Determine the object\n",
    "In files `o1`, `o2` and `o3` are cloud of points. Construct the alpha shape complex on them (hint: use radious 1) and compute the homology of the resulting complex.\n",
    "\n",
    "Determine betti numbers for each of the complex and based on them determine which of the following objects do they represent.\n",
    "1. Two disjoint rings.\n",
    "2. Two entwined rings.\n",
    "3. Two rings touching in a common point.\n",
    "\n",
    "To refresh memory on alpha shapes generation see the document http://nbviewer.jupyter.org/github/gregorjerse/rt2/blob/master/2015_2016/lab4/Alpha%20shapes%20vs.%20Vietoris%20Rips.ipynb "
   ]
  }
 ],
 "metadata": {
  "kernelspec": {
   "display_name": "Python 2",
   "language": "python",
   "name": "python2"
  },
  "language_info": {
   "codemirror_mode": {
    "name": "ipython",
    "version": 2
   },
   "file_extension": ".py",
   "mimetype": "text/x-python",
   "name": "python",
   "nbconvert_exporter": "python",
   "pygments_lexer": "ipython2",
   "version": "2.7.11+"
  }
 },
 "nbformat": 4,
 "nbformat_minor": 0
}
