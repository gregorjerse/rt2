{
 "cells": [
  {
   "cell_type": "markdown",
   "metadata": {},
   "source": [
    "## Object reconstruction from a cloud of points in 2D using $\\alpha$-shapes and Vietoris-Rips complexes"
   ]
  },
  {
   "cell_type": "markdown",
   "metadata": {},
   "source": [
    "We will generate a cloud of points in 2D space, in our example a circle. Then Vietoris-Rips, Chech and $\\alpha$-complexes for the given radius will be constructed. \n",
    "\n",
    "The number of simplices for each construction will be determined and the resulting complex drawn using matplotlib.\n",
    "\n",
    "Let us start with Vietoris-Rips and $\\alpha$ complexes, since we can calculate them from Python. First some basic imports and helper functions."
   ]
  },
  {
   "cell_type": "code",
   "execution_count": 8,
   "metadata": {
    "collapsed": false
   },
   "outputs": [
    {
     "ename": "ImportError",
     "evalue": "No module named 'dionysus'",
     "output_type": "error",
     "traceback": [
      "\u001b[1;31m---------------------------------------------------------------------------\u001b[0m",
      "\u001b[1;31mImportError\u001b[0m                               Traceback (most recent call last)",
      "\u001b[1;32m<ipython-input-8-df82a3764583>\u001b[0m in \u001b[0;36m<module>\u001b[1;34m()\u001b[0m\n\u001b[1;32m----> 1\u001b[1;33m \u001b[1;32mimport\u001b[0m \u001b[0mdionysus\u001b[0m\u001b[1;33m\u001b[0m\u001b[0m\n\u001b[0m\u001b[0;32m      2\u001b[0m \u001b[1;32mimport\u001b[0m \u001b[0mmath\u001b[0m\u001b[1;33m\u001b[0m\u001b[0m\n\u001b[0;32m      3\u001b[0m \u001b[1;32mfrom\u001b[0m \u001b[0mrandom\u001b[0m \u001b[1;32mimport\u001b[0m \u001b[0mrandom\u001b[0m\u001b[1;33m\u001b[0m\u001b[0m\n\u001b[0;32m      4\u001b[0m \u001b[1;32mfrom\u001b[0m \u001b[0mmatplotlib\u001b[0m \u001b[1;32mimport\u001b[0m \u001b[0mpyplot\u001b[0m\u001b[1;33m\u001b[0m\u001b[0m\n\u001b[0;32m      5\u001b[0m \u001b[1;32mimport\u001b[0m \u001b[0mtime\u001b[0m\u001b[1;33m\u001b[0m\u001b[0m\n",
      "\u001b[1;31mImportError\u001b[0m: No module named 'dionysus'"
     ]
    }
   ],
   "source": [
    "import dionysus\n",
    "import math\n",
    "from random import random\n",
    "from matplotlib import pyplot\n",
    "import time"
   ]
  },
  {
   "cell_type": "markdown",
   "metadata": {},
   "source": [
    "Now we define methods for generating a cloud of points and drawing."
   ]
  },
  {
   "cell_type": "code",
   "execution_count": 6,
   "metadata": {
    "collapsed": true
   },
   "outputs": [],
   "source": [
    "def generate_circle(n, radius, max_noise):\n",
    "    \"\"\"\n",
    "    Generate n points on a sphere with the center in the point (0,0) \n",
    "    with the given radius. \n",
    "    \n",
    "    Noise is added so that the distance from\n",
    "    the generated point to some point on the sphere does not\n",
    "    exceed max_noise parameter.\n",
    "    \n",
    "    Returns the list of generated points.    \n",
    "    \"\"\"\n",
    "    points = []\n",
    "    for i in range(n):\n",
    "        angle = 2 * math.pi * random()\n",
    "        noise = max_noise * random()\n",
    "        r = radius * (1 + noise)\n",
    "        point = [r * math.cos(angle), r * math.sin(angle)]\n",
    "        points.append(point)\n",
    "    return points"
   ]
  },
  {
   "cell_type": "code",
   "execution_count": 3,
   "metadata": {
    "collapsed": true
   },
   "outputs": [],
   "source": [
    "def plot_points(points, figure=None, radius=0, color='r'):\n",
    "    \"\"\"\n",
    "    Plot the given list of points on the given figure using matplotlib. \n",
    "    If figure is not specified plot on the current figure.\n",
    "    \n",
    "    If radius is bigger than zero, then around each\n",
    "    point the ball centered in the point with the \n",
    "    given radius and color will be drawn. If color is not given \n",
    "    circles are drawn using red color.\n",
    "    \"\"\"\n",
    "    xs, ys = map(list, zip(*points))\n",
    "    pyplot.axis([min(xs)-1, max(xs)+1,min(ys)-1,max(ys)+1])\n",
    "    pyplot.plot(xs, ys, 'ro')\n",
    "    if radius > 0:\n",
    "        if figure is None:\n",
    "            figure = pyplot.gcf()\n",
    "        axes = figure.gca()\n",
    "        for circle in [pyplot.Circle(point, radius, color=color)\n",
    "                       for point in points]:\n",
    "            axes.add_artist(circle)"
   ]
  },
  {
   "cell_type": "code",
   "execution_count": 14,
   "metadata": {
    "collapsed": true
   },
   "outputs": [],
   "source": [
    "def get_points(points, indices):\n",
    "    '''\n",
    "    Get data from point array on the given indices.\n",
    "    Useful since simplex spanned by a list of points\n",
    "    is given as a list of positions of the points\n",
    "    in a points array.\n",
    "    '''\n",
    "    return [points[index] for index in indices]\n",
    "\n",
    "def draw_triangle(triangle):\n",
    "    '''\n",
    "    Draw a triangle on the current figure. \n",
    "    Triangle must be given as a list of three 2D points, \n",
    "    each point as a list of two numbers.\n",
    "    '''\n",
    "    p1, p2, p3 = triangle\n",
    "    pyplot.plot([p1[0], p2[0]],[p1[1],p2[1]])\n",
    "    pyplot.plot([p1[0], p3[0]],[p1[1],p3[1]])\n",
    "    pyplot.plot([p2[0], p3[0]],[p2[1],p3[1]])\n",
    "        \n",
    "def draw_line(line):\n",
    "    '''\n",
    "    Draw a line on the current figure.\n",
    "    Line must be given as a list of two 2D points, \n",
    "    each point as a list of two numbers.    \n",
    "    '''\n",
    "    p1, p2 = line\n",
    "    pyplot.plot([p1[0], p2[0]],[p1[1],p2[1]])\n",
    "    \n",
    "def draw_point(point):\n",
    "    '''\n",
    "    Draw a point on the current figure.\n",
    "    Point must be given as a list of two numbers.    \n",
    "    '''\n",
    "    pyplot.plot(point)\n",
    "\n",
    "def draw_simplicial_complex(simplices, points):\n",
    "    '''\n",
    "    Draw 2D simplicial complex on the current figure. \n",
    "    Input must be a list of simplices, each simplex a\n",
    "    list of indices in the points array. \n",
    "    '''\n",
    "    handlers = [draw_point, draw_line, draw_triangle]\n",
    "    for simplex in simplices:\n",
    "        handlers[len(simplex)-1](get_points(points, simplex))"
   ]
  },
  {
   "cell_type": "code",
   "execution_count": 7,
   "metadata": {
    "collapsed": false
   },
   "outputs": [
    {
     "ename": "NameError",
     "evalue": "name 'math' is not defined",
     "output_type": "error",
     "traceback": [
      "\u001b[1;31m---------------------------------------------------------------------------\u001b[0m",
      "\u001b[1;31mNameError\u001b[0m                                 Traceback (most recent call last)",
      "\u001b[1;32m<ipython-input-7-9df6338280db>\u001b[0m in \u001b[0;36m<module>\u001b[1;34m()\u001b[0m\n\u001b[0;32m      1\u001b[0m \u001b[0mget_ipython\u001b[0m\u001b[1;33m(\u001b[0m\u001b[1;33m)\u001b[0m\u001b[1;33m.\u001b[0m\u001b[0mmagic\u001b[0m\u001b[1;33m(\u001b[0m\u001b[1;34m'matplotlib notebook'\u001b[0m\u001b[1;33m)\u001b[0m\u001b[1;33m\u001b[0m\u001b[0m\n\u001b[1;32m----> 2\u001b[1;33m \u001b[0mcircle\u001b[0m \u001b[1;33m=\u001b[0m \u001b[0mgenerate_circle\u001b[0m\u001b[1;33m(\u001b[0m\u001b[1;36m70\u001b[0m\u001b[1;33m,\u001b[0m \u001b[1;36m3\u001b[0m\u001b[1;33m,\u001b[0m \u001b[1;36m0.1\u001b[0m\u001b[1;33m)\u001b[0m\u001b[1;33m\u001b[0m\u001b[0m\n\u001b[0m\u001b[0;32m      3\u001b[0m \u001b[0mplot_points\u001b[0m\u001b[1;33m(\u001b[0m\u001b[0mcircle\u001b[0m\u001b[1;33m)\u001b[0m\u001b[1;33m\u001b[0m\u001b[0m\n",
      "\u001b[1;32m<ipython-input-6-77b0213ba43b>\u001b[0m in \u001b[0;36mgenerate_circle\u001b[1;34m(n, radius, max_noise)\u001b[0m\n\u001b[0;32m     12\u001b[0m     \u001b[0mpoints\u001b[0m \u001b[1;33m=\u001b[0m \u001b[1;33m[\u001b[0m\u001b[1;33m]\u001b[0m\u001b[1;33m\u001b[0m\u001b[0m\n\u001b[0;32m     13\u001b[0m     \u001b[1;32mfor\u001b[0m \u001b[0mi\u001b[0m \u001b[1;32min\u001b[0m \u001b[0mrange\u001b[0m\u001b[1;33m(\u001b[0m\u001b[0mn\u001b[0m\u001b[1;33m)\u001b[0m\u001b[1;33m:\u001b[0m\u001b[1;33m\u001b[0m\u001b[0m\n\u001b[1;32m---> 14\u001b[1;33m         \u001b[0mangle\u001b[0m \u001b[1;33m=\u001b[0m \u001b[1;36m2\u001b[0m \u001b[1;33m*\u001b[0m \u001b[0mmath\u001b[0m\u001b[1;33m.\u001b[0m\u001b[0mpi\u001b[0m \u001b[1;33m*\u001b[0m \u001b[0mrandom\u001b[0m\u001b[1;33m(\u001b[0m\u001b[1;33m)\u001b[0m\u001b[1;33m\u001b[0m\u001b[0m\n\u001b[0m\u001b[0;32m     15\u001b[0m         \u001b[0mnoise\u001b[0m \u001b[1;33m=\u001b[0m \u001b[0mmax_noise\u001b[0m \u001b[1;33m*\u001b[0m \u001b[0mrandom\u001b[0m\u001b[1;33m(\u001b[0m\u001b[1;33m)\u001b[0m\u001b[1;33m\u001b[0m\u001b[0m\n\u001b[0;32m     16\u001b[0m         \u001b[0mr\u001b[0m \u001b[1;33m=\u001b[0m \u001b[0mradius\u001b[0m \u001b[1;33m*\u001b[0m \u001b[1;33m(\u001b[0m\u001b[1;36m1\u001b[0m \u001b[1;33m+\u001b[0m \u001b[0mnoise\u001b[0m\u001b[1;33m)\u001b[0m\u001b[1;33m\u001b[0m\u001b[0m\n",
      "\u001b[1;31mNameError\u001b[0m: name 'math' is not defined"
     ]
    }
   ],
   "source": [
    "%matplotlib notebook\n",
    "circle = generate_circle(70, 3, 0.1)\n",
    "plot_points(circle)"
   ]
  },
  {
   "cell_type": "markdown",
   "metadata": {},
   "source": [
    "Now construct $\\alpha$-shapes and Vietoris-Rips complex from this cloud of points."
   ]
  },
  {
   "cell_type": "code",
   "execution_count": 9,
   "metadata": {
    "collapsed": false
   },
   "outputs": [
    {
     "ename": "SyntaxError",
     "evalue": "invalid syntax (<ipython-input-9-26762b894443>, line 11)",
     "output_type": "error",
     "traceback": [
      "\u001b[1;36m  File \u001b[1;32m\"<ipython-input-9-26762b894443>\"\u001b[1;36m, line \u001b[1;32m11\u001b[0m\n\u001b[1;33m    print time.asctime(), \"Generated complex: %d simplices\" % len(simplices)\u001b[0m\n\u001b[1;37m             ^\u001b[0m\n\u001b[1;31mSyntaxError\u001b[0m\u001b[1;31m:\u001b[0m invalid syntax\n"
     ]
    }
   ],
   "source": [
    "def rips(points, skeleton, max):\n",
    "    \"\"\"\n",
    "    Generate the Vietoris-Rips complex on the given set of points in 2D.\n",
    "    Only simplexes up to dimension skeleton are computed.\n",
    "    The max parameter denotes the radious used in VR-construction.\n",
    "    \"\"\"\n",
    "    distances = dionysus.PairwiseDistances(points)\n",
    "    rips = dionysus.Rips(distances)\n",
    "    simplices = dionysus.Filtration()\n",
    "    rips.generate(skeleton, max, simplices.append)\n",
    "    print time.asctime(), \"Generated complex: %d simplices\" % len(simplices)\n",
    "    for s in simplices: s.data = rips.eval(s)\n",
    "    print time.asctime(), simplices[0], '...', simplices[-1]\n",
    "    return [list(simplex.vertices) for simplex in simplices]"
   ]
  },
  {
   "cell_type": "code",
   "execution_count": 17,
   "metadata": {
    "collapsed": false
   },
   "outputs": [
    {
     "ename": "SyntaxError",
     "evalue": "invalid syntax (<ipython-input-17-61eba50b851b>, line 5)",
     "output_type": "error",
     "traceback": [
      "\u001b[1;36m  File \u001b[1;32m\"<ipython-input-17-61eba50b851b>\"\u001b[1;36m, line \u001b[1;32m5\u001b[0m\n\u001b[1;33m    print \"Total number of simplices:\", len(ret)\u001b[0m\n\u001b[1;37m                                     ^\u001b[0m\n\u001b[1;31mSyntaxError\u001b[0m\u001b[1;31m:\u001b[0m invalid syntax\n"
     ]
    }
   ],
   "source": [
    "def alpha(points, radius):\n",
    "    f = dionysus.Filtration()\n",
    "    dionysus.fill_alpha_complex(points, f)\n",
    "    ret = [list(s.vertices) for s in f if s.data[0] <= radius]\n",
    "    print \"Total number of simplices:\", len(ret)\n",
    "    return ret"
   ]
  },
  {
   "cell_type": "code",
   "execution_count": 19,
   "metadata": {
    "collapsed": false
   },
   "outputs": [
    {
     "ename": "NameError",
     "evalue": "name 'rips' is not defined",
     "output_type": "error",
     "traceback": [
      "\u001b[1;31m---------------------------------------------------------------------------\u001b[0m",
      "\u001b[1;31mNameError\u001b[0m                                 Traceback (most recent call last)",
      "\u001b[1;32m<ipython-input-19-77535c1ea917>\u001b[0m in \u001b[0;36m<module>\u001b[1;34m()\u001b[0m\n\u001b[0;32m      1\u001b[0m \u001b[0mget_ipython\u001b[0m\u001b[1;33m(\u001b[0m\u001b[1;33m)\u001b[0m\u001b[1;33m.\u001b[0m\u001b[0mmagic\u001b[0m\u001b[1;33m(\u001b[0m\u001b[1;34m'matplotlib notebook'\u001b[0m\u001b[1;33m)\u001b[0m\u001b[1;33m\u001b[0m\u001b[0m\n\u001b[1;32m----> 2\u001b[1;33m \u001b[0mrips_complex\u001b[0m \u001b[1;33m=\u001b[0m \u001b[0mrips\u001b[0m\u001b[1;33m(\u001b[0m\u001b[0mpoints\u001b[0m\u001b[1;33m=\u001b[0m\u001b[0mcircle\u001b[0m\u001b[1;33m,\u001b[0m \u001b[0mskeleton\u001b[0m\u001b[1;33m=\u001b[0m\u001b[1;36m2\u001b[0m\u001b[1;33m,\u001b[0m \u001b[0mmax\u001b[0m\u001b[1;33m=\u001b[0m\u001b[1;36m1\u001b[0m\u001b[1;33m)\u001b[0m\u001b[1;33m\u001b[0m\u001b[0m\n\u001b[0m\u001b[0;32m      3\u001b[0m \u001b[0malpha_shapes\u001b[0m \u001b[1;33m=\u001b[0m \u001b[0malpha\u001b[0m\u001b[1;33m(\u001b[0m\u001b[0mcircle\u001b[0m\u001b[1;33m,\u001b[0m \u001b[1;36m0.25\u001b[0m\u001b[1;33m)\u001b[0m\u001b[1;33m\u001b[0m\u001b[0m\n\u001b[0;32m      4\u001b[0m \u001b[0mdraw_simplicial_complex\u001b[0m\u001b[1;33m(\u001b[0m\u001b[0mrips_complex\u001b[0m\u001b[1;33m,\u001b[0m \u001b[0mcircle\u001b[0m\u001b[1;33m)\u001b[0m\u001b[1;33m\u001b[0m\u001b[0m\n",
      "\u001b[1;31mNameError\u001b[0m: name 'rips' is not defined"
     ]
    }
   ],
   "source": [
    "%matplotlib notebook\n",
    "rips_complex = rips(points=circle, skeleton=2, max=1)\n",
    "alpha_shapes = alpha(circle, 0.25)\n",
    "draw_simplicial_complex(rips_complex, circle)"
   ]
  },
  {
   "cell_type": "code",
   "execution_count": null,
   "metadata": {
    "collapsed": true
   },
   "outputs": [],
   "source": []
  }
 ],
 "metadata": {
  "kernelspec": {
   "display_name": "Python 3",
   "language": "python",
   "name": "python3"
  },
  "language_info": {
   "codemirror_mode": {
    "name": "ipython",
    "version": 3
   },
   "file_extension": ".py",
   "mimetype": "text/x-python",
   "name": "python",
   "nbconvert_exporter": "python",
   "pygments_lexer": "ipython3",
   "version": "3.5.1+"
  }
 },
 "nbformat": 4,
 "nbformat_minor": 0
}
