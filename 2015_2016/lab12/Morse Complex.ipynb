{
 "cells": [
  {
   "cell_type": "markdown",
   "metadata": {},
   "source": [
    "# Morse Complex\n",
    "Tast of today's lab exercises is to implement an algorithm that computes a Morse Complex of a given simplicial complex K.\n",
    "\n",
    "To make things simple the simplicial complex K is given as a list of simplices and each simplex is just a tuple of its vertices. \n",
    "\n",
    "Example: bellow is the definition of a complex representing a full triangle spanned on the vertices $0, 1$ and $2$."
   ]
  },
  {
   "cell_type": "code",
   "execution_count": 1,
   "metadata": {
    "collapsed": true
   },
   "outputs": [],
   "source": [
    "K = [(0,), (1,), (2,), (0,1), (0,2), (1, 2), (0, 1, 2)] "
   ]
  },
  {
   "cell_type": "markdown",
   "metadata": {},
   "source": [
    "Just to make life easier we will implement a function closure, which allows us to enter only top-dimensional simplices of the complex."
   ]
  },
  {
   "cell_type": "code",
   "execution_count": 2,
   "metadata": {
    "collapsed": true
   },
   "outputs": [],
   "source": [
    "from itertools import combinations, chain\n",
    "\n",
    "def simplex_closure(a):    \n",
    "    \"\"\"Returns the generator that iterating over all subsimplices (of all dimensions) in the closure\n",
    "    of the simplex a. The simplex a is also included.\n",
    "    \"\"\"\n",
    "    return chain.from_iterable([combinations(a, l) for l in range(1, len(a) + 1)])\n",
    "        \n",
    "def closure(K):\n",
    "    \"\"\"Add all missing subsimplices to K in order to make it a simplicial complex.\"\"\"\n",
    "    return list({s for a in K for s in simplex_closure(a)})"
   ]
  },
  {
   "cell_type": "markdown",
   "metadata": {},
   "source": [
    "Using the above function the full triangle spanned on vertices $0, 1$ and $2$ can be given as bellow."
   ]
  },
  {
   "cell_type": "code",
   "execution_count": 3,
   "metadata": {
    "collapsed": false
   },
   "outputs": [
    {
     "data": {
      "text/plain": [
       "[(0, 1), (1, 2), (0,), (1,), (0, 1, 2), (2,), (0, 2)]"
      ]
     },
     "execution_count": 3,
     "metadata": {},
     "output_type": "execute_result"
    }
   ],
   "source": [
    "closure([(0,1,2)])"
   ]
  },
  {
   "cell_type": "markdown",
   "metadata": {},
   "source": [
    "The algorithm is implemented in 3 steps:\n",
    "1. Compute a random discrete gradient vector field on K.\n",
    "2. Cancel unnecessary critical simplices.\n",
    "3. Compute the Morse boundary of each critical simplex."
   ]
  },
  {
   "cell_type": "code",
   "execution_count": null,
   "metadata": {
    "collapsed": true
   },
   "outputs": [],
   "source": []
  },
  {
   "cell_type": "markdown",
   "metadata": {},
   "source": [
    "### Compute a random discrete gradient vector field on K\n",
    "Use the procedure described in the article by [Bruno Benedetti and Frank\n",
    "Lutz](http://arxiv.org/abs/1303.6422). The procedure is implemented bellow."
   ]
  },
  {
   "cell_type": "code",
   "execution_count": 4,
   "metadata": {
    "collapsed": true
   },
   "outputs": [],
   "source": [
    "from random import choice\n",
    "from collections import defaultdict\n",
    "\n",
    "\n",
    "def contained(a, b):\n",
    "    \"\"\"Returns True is a is a subsimplex of b, False otherwise.\"\"\"\n",
    "    return all((v in b for v in a))\n",
    "\n",
    "def free_face(K):\n",
    "    \"\"\"Finds one of the free faces in the complex K.\n",
    "    Returns the pair (a, b) where a is a free face of b.\n",
    "    If K has no free faces, tuple (None, None) is returned.  \n",
    "    \"\"\"\n",
    "    for s1 in K:\n",
    "        cofaces = [s for s in K if len(s) == len(s1) + 1 and contained(s1, s)]\n",
    "        if len(cofaces) == 1: \n",
    "            return s1, cofaces[0]\n",
    "    return None, None\n",
    "\n",
    "def top_simplex(K):\n",
    "    \"\"\"Returns one of the top dimensional simplices in K.  \n",
    "    \"\"\"\n",
    "    max_length = max([len(s) for s in K])\n",
    "    return choice([s for s in K if len(s) == max_length])\n",
    "                \n",
    "def generate_field(K):\n",
    "    \"\"\"Computes a discrete gradient vector field on the complex K.\n",
    "    Returns a pair (V, C), where V representing pairs in the\n",
    "    computed gradient vector field and C is a list of critical \n",
    "    cimplices.  \n",
    "    \"\"\"\n",
    "    K1, C, V = set(K), [], dict()\n",
    "    while K1:\n",
    "        s1, s2 = free_face(K1)\n",
    "        if s1:\n",
    "            V[s1] = s2\n",
    "            K1.remove(s1)\n",
    "            K1.remove(s2)            \n",
    "        else:\n",
    "            s = top_simplex(K1)\n",
    "            C.append(s)\n",
    "            K1.remove(s)\n",
    "    return V, C"
   ]
  },
  {
   "cell_type": "markdown",
   "metadata": {},
   "source": [
    "Let us try the code on the complex K (full triangle)."
   ]
  },
  {
   "cell_type": "code",
   "execution_count": 5,
   "metadata": {
    "collapsed": false
   },
   "outputs": [
    {
     "name": "stdout",
     "output_type": "stream",
     "text": [
      "({(0, 1): (0, 1, 2), (0,): (0, 2), (1,): (1, 2)}, [(2,)])\n"
     ]
    }
   ],
   "source": [
    "V, C = generate_field(K)\n",
    "print(V, C)"
   ]
  },
  {
   "cell_type": "markdown",
   "metadata": {},
   "source": [
    "### Cancel unnecessary critical simplices\n",
    "\n",
    "Two critical simplices $\\alpha^{(p+1)}$ and $\\beta^{(p)}$ are connected when there exists a V-path starting in simplices in $\\partial \\alpha$ and ending in $\\beta$. Pairs of critical cells that are connected with exactly one gradient path can be canceled.\n",
    "\n",
    "Implementation is tricky, is it requires searching through all V-paths connecting critical simplices. First we need some helper methods."
   ]
  },
  {
   "cell_type": "code",
   "execution_count": 12,
   "metadata": {
    "collapsed": true
   },
   "outputs": [],
   "source": [
    "def boundary(a):\n",
    "    \"\"\"Return the boundary (codimension one faces) of the simplex a.\n",
    "    \"\"\"\n",
    "    return combinations(a, len(a)-1)"
   ]
  },
  {
   "cell_type": "markdown",
   "metadata": {},
   "source": [
    "Our search for paths will be recursive. On each step a method is given already competed path which is extended in all possible directions. The function returns the iterator that eventualy returns all V-paths connecting pairs of critical cells.\n",
    "\n",
    "To search for all paths connecting critical simplices we start in the boundary of each critical simplex and use the path extension function."
   ]
  },
  {
   "cell_type": "code",
   "execution_count": 15,
   "metadata": {
    "collapsed": false
   },
   "outputs": [],
   "source": [
    "from collections import defaultdict\n",
    "from random import choice\n",
    "\n",
    "def expand_path(V, ends, path):\n",
    "    \"\"\"Expands a path with the given prefix which is stored in the\n",
    "    list path. The last simplex in the list path in the end of the \n",
    "    prefix. The path stops at the simplices in the set/list ends.\n",
    "    Returns the list of all paths with the given prefix which end in\n",
    "    critical cells.\n",
    "    \"\"\"\n",
    "    if path[-1] in ends:      # path already ends at the critical simplex\n",
    "        yield path\n",
    "    elif path[-1] in V:       # can continue the path\n",
    "        children = (s for s in boundary(V[path[-1]]) if s != path[-1])\n",
    "        paths = (expand_path(V, ends, path + [V[path[-1]], c]) for c in children)\n",
    "        for p in chain.from_iterable(paths):\n",
    "            yield p\n",
    "\n",
    "def find_paths_between_critical_simplices(V, C):\n",
    "    \"\"\"Find all paths connecting pairs of critical simplices a and b.\n",
    "    (starting in the boundary of a and ending in b).\n",
    "    Returns dictionary whose keys are pairs of connected critical simplices\n",
    "    and value for the given key is a list of paths connecting those simplices.\n",
    "    \"\"\"\n",
    "    paths = defaultdict(list)    \n",
    "    for candidate in (s for s in C if len(s) > 1):\n",
    "        for start in boundary(candidate):\n",
    "            for path in expand_path(V, C, [start]):\n",
    "                paths[(candidate, path[-1])].append(path)\n",
    "    return paths"
   ]
  },
  {
   "cell_type": "markdown",
   "metadata": {},
   "source": [
    "Once all paths have been found we can cancel out critical pairs. The first function cancels out two critical simplices connected with a given path and the second one cancels out as many pairs of critical simplices as possible."
   ]
  },
  {
   "cell_type": "code",
   "execution_count": 16,
   "metadata": {
    "collapsed": true
   },
   "outputs": [],
   "source": [
    "\n",
    "def cancel_along_path(V, C, start, path):\n",
    "    \"\"\"Cancel two critical cells connected with the given path.\"\"\"\n",
    "    reversed_path = list(reversed(path)) + [start]\n",
    "    for i in range(0, len(reversed_path), 2):\n",
    "        V[reversed_path[i]] = reversed_path[i+1]\n",
    "    C.remove(start)\n",
    "    C.remove(path[-1])\n",
    "        \n",
    "def cancel_all(V, C):\n",
    "    \"\"\"Cancel all possible critical pairs.\"\"\"\n",
    "    while True:\n",
    "        paths = find_paths_between_critical_simplices(V, C)\n",
    "        candidates = [(pair, path[0]) for pair, path in paths.items() if len(path) == 1]\n",
    "        if len(candidates) == 0:\n",
    "            break\n",
    "        pair, path = choice(candidates)\n",
    "        cancel_along_path(V, C, pair[0], path)"
   ]
  },
  {
   "cell_type": "markdown",
   "metadata": {
    "collapsed": true
   },
   "source": [
    "Let us try the code on a simple example: full triangle where all cells are critical. Our expectation is that all simplices but one vertex will be added into V."
   ]
  },
  {
   "cell_type": "code",
   "execution_count": 18,
   "metadata": {
    "collapsed": false
   },
   "outputs": [
    {
     "name": "stdout",
     "output_type": "stream",
     "text": [
      "{(1, 2): (0, 1, 2), (2,): (0, 2), (0,): (0, 1)}\n",
      "[(1,)]\n"
     ]
    }
   ],
   "source": [
    "K = closure([(0, 1, 2)])\n",
    "V = dict()\n",
    "C = list(K)\n",
    "cancel_all(V, C)\n",
    "print(V)\n",
    "print(C)"
   ]
  },
  {
   "cell_type": "markdown",
   "metadata": {},
   "source": [
    "For the convinience we implement the function `generate_simplified_field` which generates and simplifies the field on the complex."
   ]
  },
  {
   "cell_type": "code",
   "execution_count": 19,
   "metadata": {
    "collapsed": true
   },
   "outputs": [],
   "source": [
    "def generate_simplified_field(K):\n",
    "    V, C = generate_field(K)\n",
    "    cancel_all(V, C)\n",
    "    return V, C"
   ]
  },
  {
   "cell_type": "markdown",
   "metadata": {},
   "source": [
    "### Compute the Morse boundary\n",
    "Boundary of a critical simplex $\\alpha^{(p)}$ in the Morse complex consists of all such simplices $\\beta^{(p-1)}$ such that the number of V-paths connecting them is odd. Computing it is easy since all necessary functions are already implemented."
   ]
  },
  {
   "cell_type": "code",
   "execution_count": 8,
   "metadata": {
    "collapsed": true
   },
   "outputs": [],
   "source": [
    "def morse_complex(V, C):\n",
    "    boundary = defaultdict(list)\n",
    "    paths = find_paths_between_critical_simplices(V, C)\n",
    "    for pair in paths:\n",
    "        if pair[1] in boundary[pair[0]]:\n",
    "            boundary[pair[0]].remove(pair[1])\n",
    "        else:\n",
    "            boundary[pair[0]].append(pair[1])\n",
    "    return boundary"
   ]
  },
  {
   "cell_type": "code",
   "execution_count": 21,
   "metadata": {
    "collapsed": false
   },
   "outputs": [
    {
     "data": {
      "text/plain": [
       "defaultdict(list,\n",
       "            {(0, 1): [(1,), (0,)],\n",
       "             (0, 1, 2): [(1, 2), (0, 1), (0, 2)],\n",
       "             (0, 2): [(2,), (0,)],\n",
       "             (1, 2): [(1,), (2,)]})"
      ]
     },
     "execution_count": 21,
     "metadata": {},
     "output_type": "execute_result"
    }
   ],
   "source": [
    "K = closure([(0, 1, 2)])\n",
    "V = dict()\n",
    "C = list(K)\n",
    "morse_complex(V, C)"
   ]
  },
  {
   "cell_type": "code",
   "execution_count": 22,
   "metadata": {
    "collapsed": false
   },
   "outputs": [
    {
     "data": {
      "text/plain": [
       "defaultdict(list, {(1, 2): [(2,)]})"
      ]
     },
     "execution_count": 22,
     "metadata": {},
     "output_type": "execute_result"
    }
   ],
   "source": [
    "K = closure([(0, 1), (1, 2), (0, 2)])\n",
    "V, C = generate_simplified_field(K)\n",
    "morse_complex(V, C)"
   ]
  }
 ],
 "metadata": {
  "kernelspec": {
   "display_name": "Python 2",
   "language": "python",
   "name": "python2"
  },
  "language_info": {
   "codemirror_mode": {
    "name": "ipython",
    "version": 2
   },
   "file_extension": ".py",
   "mimetype": "text/x-python",
   "name": "python",
   "nbconvert_exporter": "python",
   "pygments_lexer": "ipython2",
   "version": "2.7.11+"
  }
 },
 "nbformat": 4,
 "nbformat_minor": 0
}
