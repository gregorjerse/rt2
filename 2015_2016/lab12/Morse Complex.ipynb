{
 "cells": [
  {
   "cell_type": "markdown",
   "metadata": {},
   "source": [
    "# Morse Complex\n",
    "Tast of today's lab exercises is to implement an algorithm that computes a Morse Complex of a given simplicial complex K.\n",
    "\n",
    "To make things simple the simplicial complex K is given as a list of simplices and each simplex is just a tuple of its vertices. \n",
    "\n",
    "Example: bellow is the definition of a complex representing a full triangle spanned on the vertices $0, 1$ and $2$."
   ]
  },
  {
   "cell_type": "code",
   "execution_count": 1,
   "metadata": {
    "collapsed": true
   },
   "outputs": [],
   "source": [
    "K = [(0,), (1,), (2,), (0,1), (0,2), (1, 2), (0, 1, 2)] "
   ]
  },
  {
   "cell_type": "markdown",
   "metadata": {},
   "source": [
    "Algorithm is implemented in 3 steps:\n",
    "1. Compute a random discrete gradient vector field on K.\n",
    "2. Cancel unnecessary critical simplices.\n",
    "3. Compute the Morse boundary of each critical simplex."
   ]
  },
  {
   "cell_type": "markdown",
   "metadata": {},
   "source": [
    "### Compute a random discrete gradient vector field on K\n",
    "Use the procedure described in the article by [Bruno Benedetti and Frank\n",
    "Lutz](http://arxiv.org/abs/1303.6422). The procedure is implemented bellow."
   ]
  },
  {
   "cell_type": "code",
   "execution_count": 2,
   "metadata": {
    "collapsed": true
   },
   "outputs": [],
   "source": [
    "from random import choice\n",
    "from collections import defaultdict\n",
    "\n",
    "\n",
    "def contained(a, b):\n",
    "    \"\"\"Returns True is a is a subsimplex of b, False otherwise.\"\"\"\n",
    "    return all((v in b for v in a))\n",
    "\n",
    "def free_face(K):\n",
    "    \"\"\"Finds one of the free faces in the complex K.\n",
    "    Returns the pair (a, b) where a is a free face of b.\n",
    "    If K has no free faces, tuple (None, None) is returned.  \n",
    "    \"\"\"\n",
    "    for s1 in K:\n",
    "        cofaces = [s for s in K if len(s) == len(s1) + 1 and contained(s1, s)]\n",
    "        if len(cofaces) == 1: \n",
    "            return s1, cofaces[0]\n",
    "    return None, None\n",
    "\n",
    "def top_simplex(K):\n",
    "    \"\"\"Returns one of the top dimensional simplices in K.  \n",
    "    \"\"\"\n",
    "    max_length = max([len(s) for s in K])\n",
    "    return choice([s for s in K if len(s) == max_length])\n",
    "                \n",
    "def generate_field(K):\n",
    "    \"\"\"Computes a discrete gradient vector field on the complex K.\n",
    "    Returns a pair (V, C), where V representing pairs in the\n",
    "    computed gradient vector field and C is a list of critical \n",
    "    cimplices.  \n",
    "    \"\"\"\n",
    "    K1, C, V = set(K), [], dict()\n",
    "    while K1:\n",
    "        s1, s2 = free_face(K1)\n",
    "        if s1:\n",
    "            V[s1] = s2\n",
    "            K1.remove(s1)\n",
    "            K1.remove(s2)            \n",
    "        else:\n",
    "            s = top_simplex(K1)\n",
    "            C.append(s)\n",
    "            K1.remove(s)\n",
    "    return V, C"
   ]
  },
  {
   "cell_type": "markdown",
   "metadata": {},
   "source": [
    "Let us try the code on the complex K (full triangle)."
   ]
  },
  {
   "cell_type": "code",
   "execution_count": 3,
   "metadata": {
    "collapsed": false
   },
   "outputs": [
    {
     "name": "stdout",
     "output_type": "stream",
     "text": [
      "({(0, 1): (0, 1, 2), (0,): (0, 2), (1,): (1, 2)}, [(2,)])\n"
     ]
    }
   ],
   "source": [
    "V, C = generate_field(K)\n",
    "print(V, C)"
   ]
  },
  {
   "cell_type": "markdown",
   "metadata": {},
   "source": [
    "### Cancel unnecessary critical simplices\n",
    "First we have to find all paths starting in the boundary of some critical simplex and ending in the other critical cell. Then we can cancel out critical cells that are connected with exactly one gradient path. Repeat the procedure until all such pairs are canceled."
   ]
  },
  {
   "cell_type": "code",
   "execution_count": 76,
   "metadata": {
    "collapsed": false
   },
   "outputs": [],
   "source": [
    "from itertools import combinations\n",
    "from collections import defaultdict\n",
    "\n",
    "def simplex_closure(a):\n",
    "    \"\"\"Returns the generator iteration over all subsimplices \n",
    "    (of all dimensions) of the simplex a.\n",
    "    The simplex a is not included in the returned generator.\n",
    "    \"\"\"\n",
    "    faces = []\n",
    "    for l in range(1, len(a)):\n",
    "        faces += combinations(a, l)\n",
    "    return faces\n",
    "\n",
    "def closure(K):\n",
    "    \"\"\"Add all simplices to K in order to make it a simplicial complex.\"\"\"\n",
    "    K1 = set(K)\n",
    "    for s in K:\n",
    "        K1.update(simplex_closure(s))\n",
    "    return list(K1)\n",
    "\n",
    "def boundary(a):\n",
    "    \"\"\"Return the co-dimension one faces of the simplex a.\n",
    "    \"\"\"\n",
    "    return combinations(a, len(a)-1)\n",
    "\n",
    "def expand_path(K, V, C, path):\n",
    "    \"\"\"Expands a path with the given prefix which is stored in the\n",
    "    list path. The last simplex in the list path in the end of the \n",
    "    prefix.\n",
    "    Returns the list of all paths with the given prefix which end in\n",
    "    critical cells.\n",
    "    \"\"\"\n",
    "    end = path[-1]\n",
    "    if end in C:      # prefix already ends at the critical simplex\n",
    "        return [path]\n",
    "    if end not in V:  # path ends here\n",
    "        return []\n",
    "    paths = []\n",
    "    n = V[end]\n",
    "    for child in [child for child in boundary(n) if child != end]:\n",
    "        paths += expand_path(K, V, C, path + [n, child])\n",
    "    return paths\n",
    "\n",
    "def find_paths(K, V, C):\n",
    "    \"\"\"Find all paths starting in the boundary of critical simplices \n",
    "    (of dimension 1 or greater) and ending in other critical cell.\n",
    "    Returns dictionary whose keys are critical simplices and value\n",
    "    for the given key is a list of such paths starting in the boundary \n",
    "    the key.\n",
    "    \"\"\"\n",
    "    paths = defaultdict(list)\n",
    "    candidates = [s for s in C if len(s) > 1]\n",
    "    for candidate in candidates:\n",
    "        for start in boundary(candidate):\n",
    "            paths[candidate] += expand_path(K, V, C, [start])\n",
    "    return paths\n",
    "\n",
    "def cancel(V, C, start, path):\n",
    "    reversed_path = list(reversed(path)) + [start]\n",
    "    for i in range(0, len(reversed_path), 2):\n",
    "        V[reversed_path[i]] = reversed_path[i+1]\n",
    "    C.remove(start)\n",
    "    C.remove(path[-1])\n",
    "        \n",
    "\n",
    "def cancel_all(K, V, C):\n",
    "    candidates = [start for start, path in find_paths(K, V, C).items() if len(path) == 1]\n",
    "    while candidates:\n",
    "        candidate = choose(candidates)\n",
    "        cancel(V, C, candidate, paths[candidate])\n",
    "        candidates = [start for start, path in find_paths(K, V, C).items() if len(path) == 1]"
   ]
  },
  {
   "cell_type": "markdown",
   "metadata": {
    "collapsed": true
   },
   "source": [
    "Let us try the code on a more complex example."
   ]
  },
  {
   "cell_type": "code",
   "execution_count": 75,
   "metadata": {
    "collapsed": false
   },
   "outputs": [],
   "source": [
    "K = closure([(0, 1, 4), (0, 3, 4), (0, 2, 3), (2, 3, 5), (1, 2, 5), (1, 4, 5)])\n",
    "#C = [(0, 2, 3), (0, 1), (1, 4), (0, 2), (3, 5), (4,), (2,), (0,)]\n",
    "V, C = generate_field(K)\n",
    "cancel_all(K, V, C)"
   ]
  },
  {
   "cell_type": "code",
   "execution_count": null,
   "metadata": {
    "collapsed": true
   },
   "outputs": [],
   "source": []
  }
 ],
 "metadata": {
  "kernelspec": {
   "display_name": "Python 2",
   "language": "python",
   "name": "python2"
  },
  "language_info": {
   "codemirror_mode": {
    "name": "ipython",
    "version": 2
   },
   "file_extension": ".py",
   "mimetype": "text/x-python",
   "name": "python",
   "nbconvert_exporter": "python",
   "pygments_lexer": "ipython2",
   "version": "2.7.11+"
  }
 },
 "nbformat": 4,
 "nbformat_minor": 0
}
